{
  "cells": [
    {
      "cell_type": "code",
      "execution_count": null,
      "metadata": {
        "id": "FFIQ7kfuIRAS"
      },
      "outputs": [],
      "source": [
        "#Ventas_ibu=100-2p+2i\n",
        "#Ventas_ace=200-3p+4i"
      ]
    },
    {
      "cell_type": "markdown",
      "metadata": {
        "id": "cMIrl97ELM0w"
      },
      "source": [
        "  # Primera versión del bot ibuprofeno\n"
      ]
    },
    {
      "cell_type": "code",
      "execution_count": null,
      "metadata": {
        "colab": {
          "base_uri": "https://localhost:8080/"
        },
        "id": "_LLjQeyILQUO",
        "outputId": "2f3f15fa-96c4-46ab-eb36-ace5e01f4ac8"
      },
      "outputs": [
        {
          "name": "stdout",
          "output_type": "stream",
          "text": [
            "Estimación de las ventas de Ibuprofeno\n",
            "¿Cuál es el precio del ibuprofeno? 2\n",
            "¿Cuál es el ingreso del cliente? 10\n",
            "Las unidades vendidad de ibuprofeno serán:  126.0\n",
            "El ingreso por vender Ibuprofeno es:  252.0\n"
          ]
        }
      ],
      "source": [
        "#Encabezado\n",
        "print('Estimación de las ventas de Ibuprofeno')\n",
        "\n",
        "#Insumo\n",
        "precio_ibuprofeno=float(input('¿Cuál es el precio del ibuprofeno? '))\n",
        "ingreso=float(input('¿Cuál es el ingreso del cliente? '))\n",
        "\n",
        "#Proceso\n",
        "ventas_ibuprofeno=100-(2*precio_ibuprofeno)+(3*ingreso)\n",
        "\n",
        "#Producto\n",
        "print('Las unidades vendidad de ibuprofeno serán: ',ventas_ibuprofeno)\n",
        "print('El ingreso por vender Ibuprofeno es: ', ventas_ibuprofeno*precio_ibuprofeno)"
      ]
    },
    {
      "cell_type": "markdown",
      "metadata": {
        "id": "339zJB_IN6fN"
      },
      "source": [
        "# Primera versión del bot acetaminofen"
      ]
    },
    {
      "cell_type": "code",
      "execution_count": 3,
      "metadata": {
        "colab": {
          "base_uri": "https://localhost:8080/"
        },
        "id": "Kc1XNaCjN3Cg",
        "outputId": "d3a40ecc-6a64-4d62-b7e5-224c2c0bdf48"
      },
      "outputs": [
        {
          "name": "stdout",
          "output_type": "stream",
          "text": [
            "Estimación de las ventas de Acentaminofen\n",
            "¿Cuál es el precio del acetaminofen? 2\n",
            "¿Cuál es el ingreso del cliente? 10\n",
            "Las unidades vendidad de Acetaminofen serán:  234.0\n",
            "El ingreso por vender Acetaminofen es:  468.0\n"
          ]
        }
      ],
      "source": [
        "#Encabezado\n",
        "print('Estimación de las ventas de Acentaminofen')\n",
        "\n",
        "#Insumo\n",
        "precio_acetaminofen=float(input('¿Cuál es el precio del acetaminofen? '))\n",
        "ingreso=float(input('¿Cuál es el ingreso del cliente? '))\n",
        "\n",
        "#Proceso\n",
        "ventas_acetaminofen=200-(3*precio_acetaminofen)+(4*ingreso)\n",
        "\n",
        "#Producto\n",
        "print('Las unidades vendidad de Acetaminofen serán: ',ventas_acetaminofen)\n",
        "print('El ingreso por vender Acetaminofen es: ', ventas_acetaminofen*precio_acetaminofen)"
      ]
    },
    {
      "cell_type": "markdown",
      "metadata": {
        "id": "LSqJo8GWSBc7"
      },
      "source": [
        "# Primera versión del bot, las dos juntas"
      ]
    },
    {
      "cell_type": "code",
      "execution_count": 8,
      "metadata": {
        "colab": {
          "base_uri": "https://localhost:8080/"
        },
        "id": "Gguyp4LjQdiC",
        "outputId": "e3c71d21-08e7-4e22-a98d-65e671609171"
      },
      "outputs": [
        {
          "name": "stdout",
          "output_type": "stream",
          "text": [
            "Programa para predecir las ventas de un medicamento\n",
            "¿Cuál medicamento quieres predecir?\n",
            "1. Ibuprofeno\n",
            "2. Acetaminofen\n",
            "Tu eleccion es: 2\n",
            "¿Cuál es el precio del acetaminofen? 21\n",
            "¿Cuál es el ingreso del cliente? 12\n",
            "Las unidades vendidad de Acetaminofen serán:  185.0\n",
            "El ingreso por vender Acetaminofen es:  3885.0\n"
          ]
        }
      ],
      "source": [
        "\n",
        "print('Programa para predecir las ventas de un medicamento')\n",
        "\n",
        "print('¿Cuál medicamento quieres predecir?')\n",
        "\n",
        "print('1. Ibuprofeno')\n",
        "print('2. Acetaminofen')\n",
        "\n",
        "seleccion= int(input('Tu eleccion es: '))\n",
        "\n",
        "if seleccion==1:\n",
        "  precio_ibuprofeno=float(input('¿Cuál es el precio del ibuprofeno? '))\n",
        "  ingreso=float(input('¿Cuál es el ingreso del cliente? '))\n",
        "  ventas_ibuprofeno=100-(2*precio_ibuprofeno)+(3*ingreso)\n",
        "  print('Las unidades vendidad de ibuprofeno serán: ',ventas_ibuprofeno)\n",
        "  print('El ingreso por vender Ibuprofeno es: ', ventas_ibuprofeno*precio_ibuprofeno)\n",
        "\n",
        "elif seleccion==2:\n",
        "  precio_acetaminofen=float(input('¿Cuál es el precio del acetaminofen? '))\n",
        "  ingreso=float(input('¿Cuál es el ingreso del cliente? '))\n",
        "  ventas_acetaminofen=200-(3*precio_acetaminofen)+(4*ingreso)\n",
        "  print('Las unidades vendidad de Acetaminofen serán: ',ventas_acetaminofen)\n",
        "  print('El ingreso por vender Acetaminofen es: ', ventas_acetaminofen*precio_acetaminofen)\n",
        "\n",
        "else:\n",
        "  print('Esta opción no está disponible')"
      ]
    },
    {
      "cell_type": "markdown",
      "metadata": {
        "id": "0xGnYyK9USFJ"
      },
      "source": [
        "# Versión bot regresando al menú (agregando advil)"
      ]
    },
    {
      "cell_type": "code",
      "execution_count": 17,
      "metadata": {
        "colab": {
          "base_uri": "https://localhost:8080/"
        },
        "id": "hW16vR6YSw7s",
        "outputId": "0590c051-da44-41f0-8374-d7d290412968"
      },
      "outputs": [
        {
          "name": "stdout",
          "output_type": "stream",
          "text": [
            "Programa para predecir las ventas de un medicamento\n",
            "¿Cuál medicamento quieres predecir?\n",
            "1. Ibuprofeno\n",
            "2. Acetaminofen\n",
            "3. Advil\n",
            "4. Salir\n",
            "Tu eleccion es: 3\n",
            "¿Cuál es el precio del advil? 23\n",
            "¿Cuál es el ingreso del cliente? 23\n",
            "Las unidades vendidad de Advil serán:  369.0\n",
            "El ingreso por vender Advil es:  8487.0\n",
            "1. Ibuprofeno\n",
            "2. Acetaminofen\n",
            "3. Advil\n",
            "4. Salir\n",
            "Tu eleccion es: 4\n",
            "Gracias por utilizar este programa. ¡Hasta pronto!\n"
          ]
        }
      ],
      "source": [
        "print('Programa para predecir las ventas de un medicamento')\n",
        "\n",
        "print('¿Cuál medicamento quieres predecir?')\n",
        "\n",
        "seleccion=0\n",
        "while seleccion!=4:\n",
        "\n",
        "  print('1. Ibuprofeno')\n",
        "  print('2. Acetaminofen')\n",
        "  print('3. Advil')\n",
        "  print('4. Salir')\n",
        "  seleccion= int(input('Tu eleccion es: '))\n",
        "\n",
        "  if seleccion==1:\n",
        "    precio_ibuprofeno=float(input('¿Cuál es el precio del ibuprofeno? '))\n",
        "    ingreso=float(input('¿Cuál es el ingreso del cliente? '))\n",
        "    ventas_ibuprofeno=100-(2*precio_ibuprofeno)+(3*ingreso)\n",
        "    print('Las unidades vendidad de ibuprofeno serán: ',ventas_ibuprofeno)\n",
        "    print('El ingreso por vender Ibuprofeno es: ', ventas_ibuprofeno*precio_ibuprofeno)\n",
        "\n",
        "  elif seleccion==2:\n",
        "    precio_acetaminofen=float(input('¿Cuál es el precio del acetaminofen? '))\n",
        "    ingreso=float(input('¿Cuál es el ingreso del cliente? '))\n",
        "    ventas_acetaminofen=200-(3*precio_acetaminofen)+(4*ingreso)\n",
        "    print('Las unidades vendidad de Acetaminofen serán: ',ventas_acetaminofen)\n",
        "    print('El ingreso por vender Acetaminofen es: ', ventas_acetaminofen*precio_acetaminofen)\n",
        "\n",
        "  elif seleccion==3:\n",
        "    precio_advil=float(input('¿Cuál es el precio del advil? '))\n",
        "    ingreso=float(input('¿Cuál es el ingreso del cliente? '))\n",
        "    ventas_advil=300-(2*precio_advil)+(5*ingreso)\n",
        "    print('Las unidades vendidad de Advil serán: ',ventas_advil)\n",
        "    print('El ingreso por vender Advil es: ', ventas_advil*precio_advil)\n",
        "\n",
        "\n",
        "  elif seleccion==4:\n",
        "    print('Gracias por utilizar este programa. ¡Hasta pronto!')\n",
        "\n",
        "  else:\n",
        "    print('Esta opción no está disponible')"
      ]
    },
    {
      "cell_type": "markdown",
      "metadata": {
        "id": "ldZWtNTyabui"
      },
      "source": [
        "# Version con metodos/funciones"
      ]
    },
    {
      "cell_type": "code",
      "execution_count": 1,
      "metadata": {
        "id": "KCwCRUuBXRRM"
      },
      "outputs": [
        {
          "name": "stdout",
          "output_type": "stream",
          "text": [
            "Programa para predecir las ventas de un medicamento\n",
            "¿Cuál medicamento quieres predecir?\n",
            "1. Ibuprofeno\n",
            "2. Acetaminofen\n",
            "3. Advil\n",
            "4. Salir\n",
            "Las unidades vendidas de ibuprofeno serán: 105.0\n",
            "1. Ibuprofeno\n",
            "2. Acetaminofen\n",
            "3. Advil\n",
            "4. Salir\n",
            "Gracias por utilizar este programa. ¡Hasta pronto!\n"
          ]
        }
      ],
      "source": [
        "#Metodos o funciones\n",
        "\n",
        "def ibuprofeno(precio_ibuprofeno, ingreso):\n",
        "  ventas_ibuprofeno=100-(2*precio_ibuprofeno)+(3*ingreso)\n",
        "  print('Las unidades vendidas de ibuprofeno serán:', ventas_ibuprofeno)\n",
        "\n",
        "def acetaminofen(precio_acetaminofen, ingreso):\n",
        "  ventas_acetaminofen=200-(3*precio_acetaminofen)+(4*ingreso)\n",
        "  print('Las unidades vendidas de acetaminofen serán:', ventas_acetaminofen)\n",
        "\n",
        "def advil(precio_advil, ingreso):\n",
        "  ventas_advil=300-(2*precio_advil)+(5*ingreso)\n",
        "  print('Las unidades vendidas de advil serán:', ventas_advil)\n",
        "\n",
        "print('Programa para predecir las ventas de un medicamento')\n",
        "\n",
        "print('¿Cuál medicamento quieres predecir?')\n",
        "\n",
        "seleccion=0\n",
        "while seleccion!=4:\n",
        "\n",
        "  print('1. Ibuprofeno')\n",
        "  print('2. Acetaminofen')\n",
        "  print('3. Advil')\n",
        "  print('4. Salir')\n",
        "  seleccion= int(input('Tu eleccion es: '))\n",
        "\n",
        "  if seleccion==1:\n",
        "    precio_ibuprofeno=float(input('¿Cuál es el precio del ibuprofeno? '))\n",
        "    ingreso=float(input('¿Cuál es el ingreso del cliente? '))\n",
        "    ibuprofeno(precio_ibuprofeno,ingreso)\n",
        "\n",
        "\n",
        "  elif seleccion==2:\n",
        "    precio_acetaminofen=float(input('¿Cuál es el precio del acetaminofen? '))\n",
        "    ingreso=float(input('¿Cuál es el ingreso del cliente? '))\n",
        "    acetaminofen(precio_acetaminofen,ingreso)\n",
        "\n",
        "  elif seleccion==3:\n",
        "    precio_advil=float(input('¿Cuál es el precio del advil? '))\n",
        "    ingreso=float(input('¿Cuál es el ingreso del cliente? '))\n",
        "    advil(precio_advil,ingreso)\n",
        "\n",
        "\n",
        "  elif seleccion==4:\n",
        "    print('Gracias por utilizar este programa. ¡Hasta pronto!')\n",
        "\n",
        "  else:\n",
        "    print('Esta opción no está disponible')"
      ]
    }
  ],
  "metadata": {
    "colab": {
      "provenance": []
    },
    "kernelspec": {
      "display_name": "Python 3",
      "name": "python3"
    },
    "language_info": {
      "codemirror_mode": {
        "name": "ipython",
        "version": 3
      },
      "file_extension": ".py",
      "mimetype": "text/x-python",
      "name": "python",
      "nbconvert_exporter": "python",
      "pygments_lexer": "ipython3",
      "version": "3.12.2"
    }
  },
  "nbformat": 4,
  "nbformat_minor": 0
}
