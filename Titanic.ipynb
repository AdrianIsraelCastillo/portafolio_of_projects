{
  "nbformat": 4,
  "nbformat_minor": 0,
  "metadata": {
    "colab": {
      "provenance": []
    },
    "kernelspec": {
      "name": "python3",
      "display_name": "Python 3"
    },
    "language_info": {
      "name": "python"
    }
  },
  "cells": [
    {
      "cell_type": "markdown",
      "source": [
        "#1. Librerias"
      ],
      "metadata": {
        "id": "XUe2qfEEZ5Tx"
      }
    },
    {
      "cell_type": "code",
      "execution_count": 12,
      "metadata": {
        "id": "49RL-Pa0Zw2B"
      },
      "outputs": [],
      "source": [
        "import numpy as np\n",
        "import pandas as pd\n",
        "import matplotlib.pyplot as plt\n",
        "\n",
        "from sklearn import preprocessing\n",
        "from sklearn.model_selection import train_test_split\n",
        "\n",
        "from keras.models import Sequential\n",
        "from keras.layers import Dense"
      ]
    },
    {
      "cell_type": "markdown",
      "source": [
        "#2. Base de datos"
      ],
      "metadata": {
        "id": "8rrayBskaAB3"
      }
    },
    {
      "cell_type": "code",
      "source": [
        "base=pd.read_pickle('TitanicSurvivalDataNumeric.pkl')\n",
        "base"
      ],
      "metadata": {
        "colab": {
          "base_uri": "https://localhost:8080/",
          "height": 423
        },
        "id": "PMEW8VYEaEu2",
        "outputId": "c03499bf-d1d5-4291-c9f9-c4033392ce8b"
      },
      "execution_count": 13,
      "outputs": [
        {
          "output_type": "execute_result",
          "data": {
            "text/plain": [
              "     Survived  Pclass  Sex   Age  SibSp  Parch     Fare  Embarked_C  \\\n",
              "0           0       3    1  22.0      1      0   7.2500           0   \n",
              "1           1       1    0  38.0      1      0  71.2833           1   \n",
              "2           1       3    0  26.0      0      0   7.9250           0   \n",
              "3           1       1    0  35.0      1      0  53.1000           0   \n",
              "4           0       3    1  35.0      0      0   8.0500           0   \n",
              "..        ...     ...  ...   ...    ...    ...      ...         ...   \n",
              "886         0       2    1  27.0      0      0  13.0000           0   \n",
              "887         1       1    0  19.0      0      0  30.0000           0   \n",
              "888         0       3    0  22.5      1      2  23.4500           0   \n",
              "889         1       1    1  26.0      0      0  30.0000           1   \n",
              "890         0       3    1  32.0      0      0   7.7500           0   \n",
              "\n",
              "     Embarked_Q  Embarked_S  \n",
              "0             0           1  \n",
              "1             0           0  \n",
              "2             0           1  \n",
              "3             0           1  \n",
              "4             0           1  \n",
              "..          ...         ...  \n",
              "886           0           1  \n",
              "887           0           1  \n",
              "888           0           1  \n",
              "889           0           0  \n",
              "890           1           0  \n",
              "\n",
              "[891 rows x 10 columns]"
            ],
            "text/html": [
              "\n",
              "  <div id=\"df-5b1b8446-0692-43a5-badb-236e7febee63\" class=\"colab-df-container\">\n",
              "    <div>\n",
              "<style scoped>\n",
              "    .dataframe tbody tr th:only-of-type {\n",
              "        vertical-align: middle;\n",
              "    }\n",
              "\n",
              "    .dataframe tbody tr th {\n",
              "        vertical-align: top;\n",
              "    }\n",
              "\n",
              "    .dataframe thead th {\n",
              "        text-align: right;\n",
              "    }\n",
              "</style>\n",
              "<table border=\"1\" class=\"dataframe\">\n",
              "  <thead>\n",
              "    <tr style=\"text-align: right;\">\n",
              "      <th></th>\n",
              "      <th>Survived</th>\n",
              "      <th>Pclass</th>\n",
              "      <th>Sex</th>\n",
              "      <th>Age</th>\n",
              "      <th>SibSp</th>\n",
              "      <th>Parch</th>\n",
              "      <th>Fare</th>\n",
              "      <th>Embarked_C</th>\n",
              "      <th>Embarked_Q</th>\n",
              "      <th>Embarked_S</th>\n",
              "    </tr>\n",
              "  </thead>\n",
              "  <tbody>\n",
              "    <tr>\n",
              "      <th>0</th>\n",
              "      <td>0</td>\n",
              "      <td>3</td>\n",
              "      <td>1</td>\n",
              "      <td>22.0</td>\n",
              "      <td>1</td>\n",
              "      <td>0</td>\n",
              "      <td>7.2500</td>\n",
              "      <td>0</td>\n",
              "      <td>0</td>\n",
              "      <td>1</td>\n",
              "    </tr>\n",
              "    <tr>\n",
              "      <th>1</th>\n",
              "      <td>1</td>\n",
              "      <td>1</td>\n",
              "      <td>0</td>\n",
              "      <td>38.0</td>\n",
              "      <td>1</td>\n",
              "      <td>0</td>\n",
              "      <td>71.2833</td>\n",
              "      <td>1</td>\n",
              "      <td>0</td>\n",
              "      <td>0</td>\n",
              "    </tr>\n",
              "    <tr>\n",
              "      <th>2</th>\n",
              "      <td>1</td>\n",
              "      <td>3</td>\n",
              "      <td>0</td>\n",
              "      <td>26.0</td>\n",
              "      <td>0</td>\n",
              "      <td>0</td>\n",
              "      <td>7.9250</td>\n",
              "      <td>0</td>\n",
              "      <td>0</td>\n",
              "      <td>1</td>\n",
              "    </tr>\n",
              "    <tr>\n",
              "      <th>3</th>\n",
              "      <td>1</td>\n",
              "      <td>1</td>\n",
              "      <td>0</td>\n",
              "      <td>35.0</td>\n",
              "      <td>1</td>\n",
              "      <td>0</td>\n",
              "      <td>53.1000</td>\n",
              "      <td>0</td>\n",
              "      <td>0</td>\n",
              "      <td>1</td>\n",
              "    </tr>\n",
              "    <tr>\n",
              "      <th>4</th>\n",
              "      <td>0</td>\n",
              "      <td>3</td>\n",
              "      <td>1</td>\n",
              "      <td>35.0</td>\n",
              "      <td>0</td>\n",
              "      <td>0</td>\n",
              "      <td>8.0500</td>\n",
              "      <td>0</td>\n",
              "      <td>0</td>\n",
              "      <td>1</td>\n",
              "    </tr>\n",
              "    <tr>\n",
              "      <th>...</th>\n",
              "      <td>...</td>\n",
              "      <td>...</td>\n",
              "      <td>...</td>\n",
              "      <td>...</td>\n",
              "      <td>...</td>\n",
              "      <td>...</td>\n",
              "      <td>...</td>\n",
              "      <td>...</td>\n",
              "      <td>...</td>\n",
              "      <td>...</td>\n",
              "    </tr>\n",
              "    <tr>\n",
              "      <th>886</th>\n",
              "      <td>0</td>\n",
              "      <td>2</td>\n",
              "      <td>1</td>\n",
              "      <td>27.0</td>\n",
              "      <td>0</td>\n",
              "      <td>0</td>\n",
              "      <td>13.0000</td>\n",
              "      <td>0</td>\n",
              "      <td>0</td>\n",
              "      <td>1</td>\n",
              "    </tr>\n",
              "    <tr>\n",
              "      <th>887</th>\n",
              "      <td>1</td>\n",
              "      <td>1</td>\n",
              "      <td>0</td>\n",
              "      <td>19.0</td>\n",
              "      <td>0</td>\n",
              "      <td>0</td>\n",
              "      <td>30.0000</td>\n",
              "      <td>0</td>\n",
              "      <td>0</td>\n",
              "      <td>1</td>\n",
              "    </tr>\n",
              "    <tr>\n",
              "      <th>888</th>\n",
              "      <td>0</td>\n",
              "      <td>3</td>\n",
              "      <td>0</td>\n",
              "      <td>22.5</td>\n",
              "      <td>1</td>\n",
              "      <td>2</td>\n",
              "      <td>23.4500</td>\n",
              "      <td>0</td>\n",
              "      <td>0</td>\n",
              "      <td>1</td>\n",
              "    </tr>\n",
              "    <tr>\n",
              "      <th>889</th>\n",
              "      <td>1</td>\n",
              "      <td>1</td>\n",
              "      <td>1</td>\n",
              "      <td>26.0</td>\n",
              "      <td>0</td>\n",
              "      <td>0</td>\n",
              "      <td>30.0000</td>\n",
              "      <td>1</td>\n",
              "      <td>0</td>\n",
              "      <td>0</td>\n",
              "    </tr>\n",
              "    <tr>\n",
              "      <th>890</th>\n",
              "      <td>0</td>\n",
              "      <td>3</td>\n",
              "      <td>1</td>\n",
              "      <td>32.0</td>\n",
              "      <td>0</td>\n",
              "      <td>0</td>\n",
              "      <td>7.7500</td>\n",
              "      <td>0</td>\n",
              "      <td>1</td>\n",
              "      <td>0</td>\n",
              "    </tr>\n",
              "  </tbody>\n",
              "</table>\n",
              "<p>891 rows × 10 columns</p>\n",
              "</div>\n",
              "    <div class=\"colab-df-buttons\">\n",
              "\n",
              "  <div class=\"colab-df-container\">\n",
              "    <button class=\"colab-df-convert\" onclick=\"convertToInteractive('df-5b1b8446-0692-43a5-badb-236e7febee63')\"\n",
              "            title=\"Convert this dataframe to an interactive table.\"\n",
              "            style=\"display:none;\">\n",
              "\n",
              "  <svg xmlns=\"http://www.w3.org/2000/svg\" height=\"24px\" viewBox=\"0 -960 960 960\">\n",
              "    <path d=\"M120-120v-720h720v720H120Zm60-500h600v-160H180v160Zm220 220h160v-160H400v160Zm0 220h160v-160H400v160ZM180-400h160v-160H180v160Zm440 0h160v-160H620v160ZM180-180h160v-160H180v160Zm440 0h160v-160H620v160Z\"/>\n",
              "  </svg>\n",
              "    </button>\n",
              "\n",
              "  <style>\n",
              "    .colab-df-container {\n",
              "      display:flex;\n",
              "      gap: 12px;\n",
              "    }\n",
              "\n",
              "    .colab-df-convert {\n",
              "      background-color: #E8F0FE;\n",
              "      border: none;\n",
              "      border-radius: 50%;\n",
              "      cursor: pointer;\n",
              "      display: none;\n",
              "      fill: #1967D2;\n",
              "      height: 32px;\n",
              "      padding: 0 0 0 0;\n",
              "      width: 32px;\n",
              "    }\n",
              "\n",
              "    .colab-df-convert:hover {\n",
              "      background-color: #E2EBFA;\n",
              "      box-shadow: 0px 1px 2px rgba(60, 64, 67, 0.3), 0px 1px 3px 1px rgba(60, 64, 67, 0.15);\n",
              "      fill: #174EA6;\n",
              "    }\n",
              "\n",
              "    .colab-df-buttons div {\n",
              "      margin-bottom: 4px;\n",
              "    }\n",
              "\n",
              "    [theme=dark] .colab-df-convert {\n",
              "      background-color: #3B4455;\n",
              "      fill: #D2E3FC;\n",
              "    }\n",
              "\n",
              "    [theme=dark] .colab-df-convert:hover {\n",
              "      background-color: #434B5C;\n",
              "      box-shadow: 0px 1px 3px 1px rgba(0, 0, 0, 0.15);\n",
              "      filter: drop-shadow(0px 1px 2px rgba(0, 0, 0, 0.3));\n",
              "      fill: #FFFFFF;\n",
              "    }\n",
              "  </style>\n",
              "\n",
              "    <script>\n",
              "      const buttonEl =\n",
              "        document.querySelector('#df-5b1b8446-0692-43a5-badb-236e7febee63 button.colab-df-convert');\n",
              "      buttonEl.style.display =\n",
              "        google.colab.kernel.accessAllowed ? 'block' : 'none';\n",
              "\n",
              "      async function convertToInteractive(key) {\n",
              "        const element = document.querySelector('#df-5b1b8446-0692-43a5-badb-236e7febee63');\n",
              "        const dataTable =\n",
              "          await google.colab.kernel.invokeFunction('convertToInteractive',\n",
              "                                                    [key], {});\n",
              "        if (!dataTable) return;\n",
              "\n",
              "        const docLinkHtml = 'Like what you see? Visit the ' +\n",
              "          '<a target=\"_blank\" href=https://colab.research.google.com/notebooks/data_table.ipynb>data table notebook</a>'\n",
              "          + ' to learn more about interactive tables.';\n",
              "        element.innerHTML = '';\n",
              "        dataTable['output_type'] = 'display_data';\n",
              "        await google.colab.output.renderOutput(dataTable, element);\n",
              "        const docLink = document.createElement('div');\n",
              "        docLink.innerHTML = docLinkHtml;\n",
              "        element.appendChild(docLink);\n",
              "      }\n",
              "    </script>\n",
              "  </div>\n",
              "\n",
              "\n",
              "<div id=\"df-0ba363d6-91a5-4c83-a524-2cd9db0c9037\">\n",
              "  <button class=\"colab-df-quickchart\" onclick=\"quickchart('df-0ba363d6-91a5-4c83-a524-2cd9db0c9037')\"\n",
              "            title=\"Suggest charts\"\n",
              "            style=\"display:none;\">\n",
              "\n",
              "<svg xmlns=\"http://www.w3.org/2000/svg\" height=\"24px\"viewBox=\"0 0 24 24\"\n",
              "     width=\"24px\">\n",
              "    <g>\n",
              "        <path d=\"M19 3H5c-1.1 0-2 .9-2 2v14c0 1.1.9 2 2 2h14c1.1 0 2-.9 2-2V5c0-1.1-.9-2-2-2zM9 17H7v-7h2v7zm4 0h-2V7h2v10zm4 0h-2v-4h2v4z\"/>\n",
              "    </g>\n",
              "</svg>\n",
              "  </button>\n",
              "\n",
              "<style>\n",
              "  .colab-df-quickchart {\n",
              "      --bg-color: #E8F0FE;\n",
              "      --fill-color: #1967D2;\n",
              "      --hover-bg-color: #E2EBFA;\n",
              "      --hover-fill-color: #174EA6;\n",
              "      --disabled-fill-color: #AAA;\n",
              "      --disabled-bg-color: #DDD;\n",
              "  }\n",
              "\n",
              "  [theme=dark] .colab-df-quickchart {\n",
              "      --bg-color: #3B4455;\n",
              "      --fill-color: #D2E3FC;\n",
              "      --hover-bg-color: #434B5C;\n",
              "      --hover-fill-color: #FFFFFF;\n",
              "      --disabled-bg-color: #3B4455;\n",
              "      --disabled-fill-color: #666;\n",
              "  }\n",
              "\n",
              "  .colab-df-quickchart {\n",
              "    background-color: var(--bg-color);\n",
              "    border: none;\n",
              "    border-radius: 50%;\n",
              "    cursor: pointer;\n",
              "    display: none;\n",
              "    fill: var(--fill-color);\n",
              "    height: 32px;\n",
              "    padding: 0;\n",
              "    width: 32px;\n",
              "  }\n",
              "\n",
              "  .colab-df-quickchart:hover {\n",
              "    background-color: var(--hover-bg-color);\n",
              "    box-shadow: 0 1px 2px rgba(60, 64, 67, 0.3), 0 1px 3px 1px rgba(60, 64, 67, 0.15);\n",
              "    fill: var(--button-hover-fill-color);\n",
              "  }\n",
              "\n",
              "  .colab-df-quickchart-complete:disabled,\n",
              "  .colab-df-quickchart-complete:disabled:hover {\n",
              "    background-color: var(--disabled-bg-color);\n",
              "    fill: var(--disabled-fill-color);\n",
              "    box-shadow: none;\n",
              "  }\n",
              "\n",
              "  .colab-df-spinner {\n",
              "    border: 2px solid var(--fill-color);\n",
              "    border-color: transparent;\n",
              "    border-bottom-color: var(--fill-color);\n",
              "    animation:\n",
              "      spin 1s steps(1) infinite;\n",
              "  }\n",
              "\n",
              "  @keyframes spin {\n",
              "    0% {\n",
              "      border-color: transparent;\n",
              "      border-bottom-color: var(--fill-color);\n",
              "      border-left-color: var(--fill-color);\n",
              "    }\n",
              "    20% {\n",
              "      border-color: transparent;\n",
              "      border-left-color: var(--fill-color);\n",
              "      border-top-color: var(--fill-color);\n",
              "    }\n",
              "    30% {\n",
              "      border-color: transparent;\n",
              "      border-left-color: var(--fill-color);\n",
              "      border-top-color: var(--fill-color);\n",
              "      border-right-color: var(--fill-color);\n",
              "    }\n",
              "    40% {\n",
              "      border-color: transparent;\n",
              "      border-right-color: var(--fill-color);\n",
              "      border-top-color: var(--fill-color);\n",
              "    }\n",
              "    60% {\n",
              "      border-color: transparent;\n",
              "      border-right-color: var(--fill-color);\n",
              "    }\n",
              "    80% {\n",
              "      border-color: transparent;\n",
              "      border-right-color: var(--fill-color);\n",
              "      border-bottom-color: var(--fill-color);\n",
              "    }\n",
              "    90% {\n",
              "      border-color: transparent;\n",
              "      border-bottom-color: var(--fill-color);\n",
              "    }\n",
              "  }\n",
              "</style>\n",
              "\n",
              "  <script>\n",
              "    async function quickchart(key) {\n",
              "      const quickchartButtonEl =\n",
              "        document.querySelector('#' + key + ' button');\n",
              "      quickchartButtonEl.disabled = true;  // To prevent multiple clicks.\n",
              "      quickchartButtonEl.classList.add('colab-df-spinner');\n",
              "      try {\n",
              "        const charts = await google.colab.kernel.invokeFunction(\n",
              "            'suggestCharts', [key], {});\n",
              "      } catch (error) {\n",
              "        console.error('Error during call to suggestCharts:', error);\n",
              "      }\n",
              "      quickchartButtonEl.classList.remove('colab-df-spinner');\n",
              "      quickchartButtonEl.classList.add('colab-df-quickchart-complete');\n",
              "    }\n",
              "    (() => {\n",
              "      let quickchartButtonEl =\n",
              "        document.querySelector('#df-0ba363d6-91a5-4c83-a524-2cd9db0c9037 button');\n",
              "      quickchartButtonEl.style.display =\n",
              "        google.colab.kernel.accessAllowed ? 'block' : 'none';\n",
              "    })();\n",
              "  </script>\n",
              "</div>\n",
              "    </div>\n",
              "  </div>\n"
            ],
            "application/vnd.google.colaboratory.intrinsic+json": {
              "type": "dataframe",
              "variable_name": "base",
              "summary": "{\n  \"name\": \"base\",\n  \"rows\": 891,\n  \"fields\": [\n    {\n      \"column\": \"Survived\",\n      \"properties\": {\n        \"dtype\": \"number\",\n        \"std\": 0,\n        \"min\": 0,\n        \"max\": 1,\n        \"num_unique_values\": 2,\n        \"samples\": [\n          1,\n          0\n        ],\n        \"semantic_type\": \"\",\n        \"description\": \"\"\n      }\n    },\n    {\n      \"column\": \"Pclass\",\n      \"properties\": {\n        \"dtype\": \"number\",\n        \"std\": 0,\n        \"min\": 1,\n        \"max\": 3,\n        \"num_unique_values\": 3,\n        \"samples\": [\n          3,\n          1\n        ],\n        \"semantic_type\": \"\",\n        \"description\": \"\"\n      }\n    },\n    {\n      \"column\": \"Sex\",\n      \"properties\": {\n        \"dtype\": \"number\",\n        \"std\": 0,\n        \"min\": 0,\n        \"max\": 1,\n        \"num_unique_values\": 2,\n        \"samples\": [\n          0,\n          1\n        ],\n        \"semantic_type\": \"\",\n        \"description\": \"\"\n      }\n    },\n    {\n      \"column\": \"Age\",\n      \"properties\": {\n        \"dtype\": \"number\",\n        \"std\": 13.90235333438284,\n        \"min\": 0.42,\n        \"max\": 80.0,\n        \"num_unique_values\": 155,\n        \"samples\": [\n          61.0,\n          35.25\n        ],\n        \"semantic_type\": \"\",\n        \"description\": \"\"\n      }\n    },\n    {\n      \"column\": \"SibSp\",\n      \"properties\": {\n        \"dtype\": \"number\",\n        \"std\": 1,\n        \"min\": 0,\n        \"max\": 8,\n        \"num_unique_values\": 7,\n        \"samples\": [\n          1,\n          0\n        ],\n        \"semantic_type\": \"\",\n        \"description\": \"\"\n      }\n    },\n    {\n      \"column\": \"Parch\",\n      \"properties\": {\n        \"dtype\": \"number\",\n        \"std\": 0,\n        \"min\": 0,\n        \"max\": 6,\n        \"num_unique_values\": 7,\n        \"samples\": [\n          0,\n          1\n        ],\n        \"semantic_type\": \"\",\n        \"description\": \"\"\n      }\n    },\n    {\n      \"column\": \"Fare\",\n      \"properties\": {\n        \"dtype\": \"number\",\n        \"std\": 49.6934285971809,\n        \"min\": 0.0,\n        \"max\": 512.3292,\n        \"num_unique_values\": 248,\n        \"samples\": [\n          11.2417,\n          51.8625\n        ],\n        \"semantic_type\": \"\",\n        \"description\": \"\"\n      }\n    },\n    {\n      \"column\": \"Embarked_C\",\n      \"properties\": {\n        \"dtype\": \"uint8\",\n        \"num_unique_values\": 2,\n        \"samples\": [\n          1,\n          0\n        ],\n        \"semantic_type\": \"\",\n        \"description\": \"\"\n      }\n    },\n    {\n      \"column\": \"Embarked_Q\",\n      \"properties\": {\n        \"dtype\": \"uint8\",\n        \"num_unique_values\": 2,\n        \"samples\": [\n          1,\n          0\n        ],\n        \"semantic_type\": \"\",\n        \"description\": \"\"\n      }\n    },\n    {\n      \"column\": \"Embarked_S\",\n      \"properties\": {\n        \"dtype\": \"uint8\",\n        \"num_unique_values\": 2,\n        \"samples\": [\n          0,\n          1\n        ],\n        \"semantic_type\": \"\",\n        \"description\": \"\"\n      }\n    }\n  ]\n}"
            }
          },
          "metadata": {},
          "execution_count": 13
        }
      ]
    },
    {
      "cell_type": "code",
      "source": [
        "bd=base.values\n",
        "bd"
      ],
      "metadata": {
        "colab": {
          "base_uri": "https://localhost:8080/"
        },
        "id": "dVqYf8ocammW",
        "outputId": "c66ab4f6-3d3d-4c43-be84-7b57ca290360"
      },
      "execution_count": 14,
      "outputs": [
        {
          "output_type": "execute_result",
          "data": {
            "text/plain": [
              "array([[0., 3., 1., ..., 0., 0., 1.],\n",
              "       [1., 1., 0., ..., 1., 0., 0.],\n",
              "       [1., 3., 0., ..., 0., 0., 1.],\n",
              "       ...,\n",
              "       [0., 3., 0., ..., 0., 0., 1.],\n",
              "       [1., 1., 1., ..., 1., 0., 0.],\n",
              "       [0., 3., 1., ..., 0., 1., 0.]])"
            ]
          },
          "metadata": {},
          "execution_count": 14
        }
      ]
    },
    {
      "cell_type": "markdown",
      "source": [
        "#3. Variables"
      ],
      "metadata": {
        "id": "-oTRiGViarpo"
      }
    },
    {
      "cell_type": "code",
      "source": [
        "X=bd[:,1:10]\n",
        "X"
      ],
      "metadata": {
        "colab": {
          "base_uri": "https://localhost:8080/"
        },
        "id": "pBlV8zD0at0Z",
        "outputId": "5c868377-9379-4316-98ff-fb0058678901"
      },
      "execution_count": 15,
      "outputs": [
        {
          "output_type": "execute_result",
          "data": {
            "text/plain": [
              "array([[ 3. ,  1. , 22. , ...,  0. ,  0. ,  1. ],\n",
              "       [ 1. ,  0. , 38. , ...,  1. ,  0. ,  0. ],\n",
              "       [ 3. ,  0. , 26. , ...,  0. ,  0. ,  1. ],\n",
              "       ...,\n",
              "       [ 3. ,  0. , 22.5, ...,  0. ,  0. ,  1. ],\n",
              "       [ 1. ,  1. , 26. , ...,  1. ,  0. ,  0. ],\n",
              "       [ 3. ,  1. , 32. , ...,  0. ,  1. ,  0. ]])"
            ]
          },
          "metadata": {},
          "execution_count": 15
        }
      ]
    },
    {
      "cell_type": "code",
      "source": [
        "Y=bd[:,0]\n",
        "Y"
      ],
      "metadata": {
        "colab": {
          "base_uri": "https://localhost:8080/"
        },
        "id": "2FOAPvuma3Sg",
        "outputId": "fe7609d1-5bb0-46dc-f60c-5f11e557121c"
      },
      "execution_count": 16,
      "outputs": [
        {
          "output_type": "execute_result",
          "data": {
            "text/plain": [
              "array([0., 1., 1., 1., 0., 0., 0., 0., 1., 1., 1., 1., 0., 0., 0., 1., 0.,\n",
              "       1., 0., 1., 0., 1., 1., 1., 0., 1., 0., 0., 1., 0., 0., 1., 1., 0.,\n",
              "       0., 0., 1., 0., 0., 1., 0., 0., 0., 1., 1., 0., 0., 1., 0., 0., 0.,\n",
              "       0., 1., 1., 0., 1., 1., 0., 1., 0., 0., 1., 0., 0., 0., 1., 1., 0.,\n",
              "       1., 0., 0., 0., 0., 0., 1., 0., 0., 0., 1., 1., 0., 1., 1., 0., 1.,\n",
              "       1., 0., 0., 1., 0., 0., 0., 0., 0., 0., 0., 0., 1., 1., 0., 0., 0.,\n",
              "       0., 0., 0., 0., 1., 1., 0., 1., 0., 0., 0., 0., 0., 0., 0., 0., 0.,\n",
              "       0., 0., 0., 0., 1., 0., 1., 0., 1., 1., 0., 0., 0., 0., 1., 0., 0.,\n",
              "       1., 0., 0., 0., 0., 1., 1., 0., 0., 0., 1., 0., 0., 0., 0., 1., 0.,\n",
              "       0., 0., 0., 1., 0., 0., 0., 0., 1., 0., 0., 0., 1., 1., 0., 0., 0.,\n",
              "       0., 0., 1., 0., 0., 0., 0., 0., 0., 0., 0., 0., 0., 1., 1., 0., 1.,\n",
              "       1., 0., 0., 1., 0., 1., 1., 1., 1., 0., 0., 1., 0., 0., 0., 0., 0.,\n",
              "       1., 0., 0., 1., 1., 1., 0., 1., 0., 0., 0., 1., 1., 0., 1., 0., 1.,\n",
              "       0., 0., 0., 1., 0., 1., 0., 0., 0., 1., 0., 0., 1., 0., 0., 0., 1.,\n",
              "       0., 0., 0., 1., 0., 0., 0., 0., 0., 1., 1., 0., 0., 0., 0., 0., 0.,\n",
              "       1., 1., 1., 1., 1., 0., 1., 0., 0., 0., 0., 0., 1., 1., 1., 0., 1.,\n",
              "       1., 0., 1., 1., 0., 0., 0., 1., 0., 0., 0., 1., 0., 0., 1., 0., 1.,\n",
              "       1., 1., 1., 0., 0., 0., 0., 0., 0., 1., 1., 1., 1., 0., 1., 0., 1.,\n",
              "       1., 1., 0., 1., 1., 1., 0., 0., 0., 1., 1., 0., 1., 1., 0., 0., 1.,\n",
              "       1., 0., 1., 0., 1., 1., 1., 1., 0., 0., 0., 1., 0., 0., 1., 1., 0.,\n",
              "       1., 1., 0., 0., 0., 1., 1., 1., 1., 0., 0., 0., 0., 0., 0., 0., 1.,\n",
              "       0., 1., 1., 0., 0., 0., 0., 0., 0., 1., 1., 1., 1., 1., 0., 0., 0.,\n",
              "       0., 1., 1., 0., 0., 0., 1., 1., 0., 1., 0., 0., 0., 1., 0., 1., 1.,\n",
              "       1., 0., 1., 1., 0., 0., 0., 0., 1., 1., 0., 0., 0., 0., 0., 0., 1.,\n",
              "       0., 0., 0., 0., 1., 0., 1., 0., 1., 1., 0., 0., 0., 0., 0., 0., 0.,\n",
              "       0., 1., 1., 0., 1., 1., 1., 1., 0., 0., 1., 0., 1., 0., 0., 1., 0.,\n",
              "       0., 1., 1., 1., 1., 1., 1., 1., 0., 0., 0., 1., 0., 1., 0., 1., 1.,\n",
              "       0., 1., 0., 0., 0., 0., 0., 0., 0., 0., 1., 0., 0., 1., 1., 0., 0.,\n",
              "       0., 0., 0., 1., 0., 0., 0., 1., 1., 0., 1., 0., 0., 1., 0., 0., 0.,\n",
              "       0., 0., 0., 1., 0., 0., 0., 0., 0., 0., 0., 1., 0., 1., 1., 0., 1.,\n",
              "       1., 0., 1., 1., 0., 0., 1., 0., 1., 0., 1., 0., 0., 1., 0., 0., 1.,\n",
              "       0., 0., 0., 1., 0., 0., 1., 0., 1., 0., 1., 0., 1., 1., 0., 0., 1.,\n",
              "       0., 0., 1., 1., 0., 1., 1., 0., 0., 1., 1., 0., 1., 0., 1., 1., 0.,\n",
              "       0., 0., 0., 0., 0., 0., 0., 0., 1., 1., 1., 1., 1., 0., 0., 1., 1.,\n",
              "       0., 1., 1., 1., 0., 0., 0., 1., 0., 1., 0., 0., 0., 1., 0., 0., 0.,\n",
              "       0., 1., 0., 0., 1., 1., 0., 0., 0., 1., 0., 0., 1., 1., 1., 0., 0.,\n",
              "       1., 0., 0., 1., 0., 0., 1., 0., 0., 1., 1., 0., 0., 0., 0., 1., 0.,\n",
              "       0., 1., 0., 1., 0., 0., 1., 0., 0., 0., 0., 0., 1., 0., 1., 1., 1.,\n",
              "       0., 1., 0., 1., 0., 1., 0., 1., 0., 0., 0., 0., 0., 0., 1., 0., 0.,\n",
              "       0., 1., 0., 0., 0., 0., 1., 1., 0., 0., 1., 0., 0., 0., 1., 0., 1.,\n",
              "       0., 1., 0., 0., 0., 0., 0., 0., 0., 1., 1., 1., 1., 0., 0., 0., 0.,\n",
              "       1., 0., 0., 1., 1., 0., 0., 0., 0., 1., 1., 1., 1., 1., 0., 1., 0.,\n",
              "       0., 0., 1., 1., 0., 0., 1., 0., 0., 0., 1., 0., 1., 1., 0., 0., 1.,\n",
              "       0., 0., 0., 0., 0., 0., 1., 0., 0., 1., 0., 1., 0., 1., 0., 0., 1.,\n",
              "       0., 0., 1., 1., 0., 0., 1., 1., 0., 0., 0., 1., 0., 0., 1., 1., 0.,\n",
              "       1., 0., 0., 0., 0., 0., 0., 0., 0., 1., 0., 0., 1., 0., 1., 1., 1.,\n",
              "       0., 0., 0., 0., 1., 0., 1., 0., 0., 0., 0., 0., 0., 0., 1., 1., 0.,\n",
              "       0., 0., 1., 1., 1., 1., 0., 0., 0., 0., 1., 0., 0., 0., 0., 0., 0.,\n",
              "       0., 0., 0., 0., 1., 1., 0., 1., 0., 0., 0., 1., 1., 1., 1., 1., 0.,\n",
              "       0., 0., 1., 0., 0., 1., 1., 0., 0., 1., 0., 0., 0., 0., 0., 0., 1.,\n",
              "       0., 0., 0., 1., 0., 1., 1., 1., 1., 0., 0., 0., 1., 0., 0., 1., 1.,\n",
              "       0., 0., 1., 0., 1., 0., 0., 1., 1., 0., 0., 0., 1., 1., 0., 0., 0.,\n",
              "       0., 0., 0., 1., 0., 1., 0.])"
            ]
          },
          "metadata": {},
          "execution_count": 16
        }
      ]
    },
    {
      "cell_type": "markdown",
      "source": [
        "#4. Redimensionamiento"
      ],
      "metadata": {
        "id": "-hzYLQ73bPUc"
      }
    },
    {
      "cell_type": "code",
      "source": [
        "X_redimensionado=preprocessing.MinMaxScaler().fit_transform(X)\n",
        "X_redimensionado"
      ],
      "metadata": {
        "colab": {
          "base_uri": "https://localhost:8080/"
        },
        "id": "AbCE4w3ybSHr",
        "outputId": "6e163d2d-35a8-4847-e51c-0655fee47f1a"
      },
      "execution_count": 17,
      "outputs": [
        {
          "output_type": "execute_result",
          "data": {
            "text/plain": [
              "array([[1.        , 1.        , 0.27117366, ..., 0.        , 0.        ,\n",
              "        1.        ],\n",
              "       [0.        , 0.        , 0.4722292 , ..., 1.        , 0.        ,\n",
              "        0.        ],\n",
              "       [1.        , 0.        , 0.32143755, ..., 0.        , 0.        ,\n",
              "        1.        ],\n",
              "       ...,\n",
              "       [1.        , 0.        , 0.27745665, ..., 0.        , 0.        ,\n",
              "        1.        ],\n",
              "       [0.        , 1.        , 0.32143755, ..., 1.        , 0.        ,\n",
              "        0.        ],\n",
              "       [1.        , 1.        , 0.39683338, ..., 0.        , 1.        ,\n",
              "        0.        ]])"
            ]
          },
          "metadata": {},
          "execution_count": 17
        }
      ]
    },
    {
      "cell_type": "markdown",
      "source": [
        "#5. Entrenamiento, validación y test"
      ],
      "metadata": {
        "id": "llMj88UTbiMb"
      }
    },
    {
      "cell_type": "code",
      "source": [
        "X_train,X_val_and_test,Y_train,Y_val_and_test=train_test_split(X_redimensionado,Y,test_size=0.4)\n",
        "X_val,X_test,Y_val,Y_test=train_test_split(X_val_and_test,Y_val_and_test,test_size=0.5)"
      ],
      "metadata": {
        "id": "yv52iUz0bmQA"
      },
      "execution_count": 18,
      "outputs": []
    },
    {
      "cell_type": "markdown",
      "source": [
        "#6. Red Neuronal"
      ],
      "metadata": {
        "id": "fy4RlT_7bpIT"
      }
    },
    {
      "cell_type": "code",
      "source": [
        "modelo=Sequential([Dense(50,activation='relu',input_shape=(9,)),Dense(50,activation='relu'),Dense(1,activation='sigmoid')])\n",
        "modelo.compile(optimizer='sgd',loss='binary_crossentropy',metrics=['accuracy'])\n",
        "proceso=modelo.fit(X_train,Y_train,batch_size=32,epochs=100,validation_data=(X_val,Y_val))"
      ],
      "metadata": {
        "colab": {
          "base_uri": "https://localhost:8080/"
        },
        "id": "gZ8gIOn8bscH",
        "outputId": "4a293735-bfdd-4c96-be45-d666ba1a356f"
      },
      "execution_count": 19,
      "outputs": [
        {
          "output_type": "stream",
          "name": "stdout",
          "text": [
            "Epoch 1/100\n",
            "17/17 [==============================] - 1s 15ms/step - loss: 0.6966 - accuracy: 0.4850 - val_loss: 0.6779 - val_accuracy: 0.6067\n",
            "Epoch 2/100\n",
            "17/17 [==============================] - 0s 5ms/step - loss: 0.6568 - accuracy: 0.6423 - val_loss: 0.6648 - val_accuracy: 0.5449\n",
            "Epoch 3/100\n",
            "17/17 [==============================] - 0s 4ms/step - loss: 0.6330 - accuracy: 0.6442 - val_loss: 0.6589 - val_accuracy: 0.5449\n",
            "Epoch 4/100\n",
            "17/17 [==============================] - 0s 4ms/step - loss: 0.6175 - accuracy: 0.6442 - val_loss: 0.6562 - val_accuracy: 0.5449\n",
            "Epoch 5/100\n",
            "17/17 [==============================] - 0s 4ms/step - loss: 0.6065 - accuracy: 0.6442 - val_loss: 0.6546 - val_accuracy: 0.5449\n",
            "Epoch 6/100\n",
            "17/17 [==============================] - 0s 4ms/step - loss: 0.5984 - accuracy: 0.6442 - val_loss: 0.6535 - val_accuracy: 0.5449\n",
            "Epoch 7/100\n",
            "17/17 [==============================] - 0s 4ms/step - loss: 0.5920 - accuracy: 0.6442 - val_loss: 0.6523 - val_accuracy: 0.5449\n",
            "Epoch 8/100\n",
            "17/17 [==============================] - 0s 4ms/step - loss: 0.5867 - accuracy: 0.6442 - val_loss: 0.6512 - val_accuracy: 0.5449\n",
            "Epoch 9/100\n",
            "17/17 [==============================] - 0s 5ms/step - loss: 0.5819 - accuracy: 0.6442 - val_loss: 0.6497 - val_accuracy: 0.5449\n",
            "Epoch 10/100\n",
            "17/17 [==============================] - 0s 4ms/step - loss: 0.5775 - accuracy: 0.6442 - val_loss: 0.6476 - val_accuracy: 0.5449\n",
            "Epoch 11/100\n",
            "17/17 [==============================] - 0s 5ms/step - loss: 0.5734 - accuracy: 0.6442 - val_loss: 0.6457 - val_accuracy: 0.5449\n",
            "Epoch 12/100\n",
            "17/17 [==============================] - 0s 5ms/step - loss: 0.5693 - accuracy: 0.6442 - val_loss: 0.6435 - val_accuracy: 0.5449\n",
            "Epoch 13/100\n",
            "17/17 [==============================] - 0s 5ms/step - loss: 0.5656 - accuracy: 0.6442 - val_loss: 0.6410 - val_accuracy: 0.5449\n",
            "Epoch 14/100\n",
            "17/17 [==============================] - 0s 4ms/step - loss: 0.5618 - accuracy: 0.6442 - val_loss: 0.6384 - val_accuracy: 0.5449\n",
            "Epoch 15/100\n",
            "17/17 [==============================] - 0s 5ms/step - loss: 0.5582 - accuracy: 0.6442 - val_loss: 0.6352 - val_accuracy: 0.5449\n",
            "Epoch 16/100\n",
            "17/17 [==============================] - 0s 5ms/step - loss: 0.5545 - accuracy: 0.6442 - val_loss: 0.6318 - val_accuracy: 0.5506\n",
            "Epoch 17/100\n",
            "17/17 [==============================] - 0s 4ms/step - loss: 0.5511 - accuracy: 0.6442 - val_loss: 0.6292 - val_accuracy: 0.5618\n",
            "Epoch 18/100\n",
            "17/17 [==============================] - 0s 5ms/step - loss: 0.5476 - accuracy: 0.6442 - val_loss: 0.6257 - val_accuracy: 0.5955\n",
            "Epoch 19/100\n",
            "17/17 [==============================] - 0s 4ms/step - loss: 0.5440 - accuracy: 0.6479 - val_loss: 0.6221 - val_accuracy: 0.6348\n",
            "Epoch 20/100\n",
            "17/17 [==============================] - 0s 5ms/step - loss: 0.5406 - accuracy: 0.7097 - val_loss: 0.6197 - val_accuracy: 0.6573\n",
            "Epoch 21/100\n",
            "17/17 [==============================] - 0s 5ms/step - loss: 0.5372 - accuracy: 0.7191 - val_loss: 0.6164 - val_accuracy: 0.6573\n",
            "Epoch 22/100\n",
            "17/17 [==============================] - 0s 5ms/step - loss: 0.5340 - accuracy: 0.7303 - val_loss: 0.6133 - val_accuracy: 0.6742\n",
            "Epoch 23/100\n",
            "17/17 [==============================] - 0s 4ms/step - loss: 0.5304 - accuracy: 0.7341 - val_loss: 0.6105 - val_accuracy: 0.6742\n",
            "Epoch 24/100\n",
            "17/17 [==============================] - 0s 5ms/step - loss: 0.5273 - accuracy: 0.7341 - val_loss: 0.6068 - val_accuracy: 0.6742\n",
            "Epoch 25/100\n",
            "17/17 [==============================] - 0s 4ms/step - loss: 0.5239 - accuracy: 0.7341 - val_loss: 0.6040 - val_accuracy: 0.6854\n",
            "Epoch 26/100\n",
            "17/17 [==============================] - 0s 5ms/step - loss: 0.5206 - accuracy: 0.7397 - val_loss: 0.6017 - val_accuracy: 0.6910\n",
            "Epoch 27/100\n",
            "17/17 [==============================] - 0s 5ms/step - loss: 0.5175 - accuracy: 0.7472 - val_loss: 0.5998 - val_accuracy: 0.7079\n",
            "Epoch 28/100\n",
            "17/17 [==============================] - 0s 4ms/step - loss: 0.5145 - accuracy: 0.7547 - val_loss: 0.5971 - val_accuracy: 0.7135\n",
            "Epoch 29/100\n",
            "17/17 [==============================] - 0s 4ms/step - loss: 0.5114 - accuracy: 0.7697 - val_loss: 0.5950 - val_accuracy: 0.7247\n",
            "Epoch 30/100\n",
            "17/17 [==============================] - 0s 5ms/step - loss: 0.5086 - accuracy: 0.7772 - val_loss: 0.5917 - val_accuracy: 0.7416\n",
            "Epoch 31/100\n",
            "17/17 [==============================] - 0s 5ms/step - loss: 0.5059 - accuracy: 0.8015 - val_loss: 0.5895 - val_accuracy: 0.7416\n",
            "Epoch 32/100\n",
            "17/17 [==============================] - 0s 4ms/step - loss: 0.5031 - accuracy: 0.7996 - val_loss: 0.5872 - val_accuracy: 0.7416\n",
            "Epoch 33/100\n",
            "17/17 [==============================] - 0s 5ms/step - loss: 0.5005 - accuracy: 0.8015 - val_loss: 0.5854 - val_accuracy: 0.7472\n",
            "Epoch 34/100\n",
            "17/17 [==============================] - 0s 5ms/step - loss: 0.4977 - accuracy: 0.8015 - val_loss: 0.5831 - val_accuracy: 0.7472\n",
            "Epoch 35/100\n",
            "17/17 [==============================] - 0s 4ms/step - loss: 0.4952 - accuracy: 0.7996 - val_loss: 0.5817 - val_accuracy: 0.7472\n",
            "Epoch 36/100\n",
            "17/17 [==============================] - 0s 5ms/step - loss: 0.4927 - accuracy: 0.7996 - val_loss: 0.5803 - val_accuracy: 0.7472\n",
            "Epoch 37/100\n",
            "17/17 [==============================] - 0s 5ms/step - loss: 0.4905 - accuracy: 0.7996 - val_loss: 0.5781 - val_accuracy: 0.7472\n",
            "Epoch 38/100\n",
            "17/17 [==============================] - 0s 4ms/step - loss: 0.4883 - accuracy: 0.8052 - val_loss: 0.5772 - val_accuracy: 0.7472\n",
            "Epoch 39/100\n",
            "17/17 [==============================] - 0s 5ms/step - loss: 0.4860 - accuracy: 0.8034 - val_loss: 0.5731 - val_accuracy: 0.7584\n",
            "Epoch 40/100\n",
            "17/17 [==============================] - 0s 4ms/step - loss: 0.4837 - accuracy: 0.8034 - val_loss: 0.5723 - val_accuracy: 0.7584\n",
            "Epoch 41/100\n",
            "17/17 [==============================] - 0s 5ms/step - loss: 0.4818 - accuracy: 0.8090 - val_loss: 0.5714 - val_accuracy: 0.7640\n",
            "Epoch 42/100\n",
            "17/17 [==============================] - 0s 5ms/step - loss: 0.4797 - accuracy: 0.8071 - val_loss: 0.5702 - val_accuracy: 0.7640\n",
            "Epoch 43/100\n",
            "17/17 [==============================] - 0s 4ms/step - loss: 0.4778 - accuracy: 0.8071 - val_loss: 0.5686 - val_accuracy: 0.7640\n",
            "Epoch 44/100\n",
            "17/17 [==============================] - 0s 5ms/step - loss: 0.4757 - accuracy: 0.8146 - val_loss: 0.5673 - val_accuracy: 0.7697\n",
            "Epoch 45/100\n",
            "17/17 [==============================] - 0s 6ms/step - loss: 0.4740 - accuracy: 0.8146 - val_loss: 0.5663 - val_accuracy: 0.7753\n",
            "Epoch 46/100\n",
            "17/17 [==============================] - 0s 5ms/step - loss: 0.4722 - accuracy: 0.8184 - val_loss: 0.5643 - val_accuracy: 0.7753\n",
            "Epoch 47/100\n",
            "17/17 [==============================] - 0s 6ms/step - loss: 0.4705 - accuracy: 0.8184 - val_loss: 0.5635 - val_accuracy: 0.7753\n",
            "Epoch 48/100\n",
            "17/17 [==============================] - 0s 7ms/step - loss: 0.4687 - accuracy: 0.8165 - val_loss: 0.5612 - val_accuracy: 0.7753\n",
            "Epoch 49/100\n",
            "17/17 [==============================] - 0s 6ms/step - loss: 0.4670 - accuracy: 0.8165 - val_loss: 0.5599 - val_accuracy: 0.7697\n",
            "Epoch 50/100\n",
            "17/17 [==============================] - 0s 6ms/step - loss: 0.4653 - accuracy: 0.8202 - val_loss: 0.5582 - val_accuracy: 0.7697\n",
            "Epoch 51/100\n",
            "17/17 [==============================] - 0s 5ms/step - loss: 0.4638 - accuracy: 0.8221 - val_loss: 0.5575 - val_accuracy: 0.7697\n",
            "Epoch 52/100\n",
            "17/17 [==============================] - 0s 6ms/step - loss: 0.4623 - accuracy: 0.8202 - val_loss: 0.5573 - val_accuracy: 0.7697\n",
            "Epoch 53/100\n",
            "17/17 [==============================] - 0s 6ms/step - loss: 0.4605 - accuracy: 0.8202 - val_loss: 0.5552 - val_accuracy: 0.7697\n",
            "Epoch 54/100\n",
            "17/17 [==============================] - 0s 7ms/step - loss: 0.4591 - accuracy: 0.8202 - val_loss: 0.5543 - val_accuracy: 0.7697\n",
            "Epoch 55/100\n",
            "17/17 [==============================] - 0s 6ms/step - loss: 0.4579 - accuracy: 0.8202 - val_loss: 0.5535 - val_accuracy: 0.7697\n",
            "Epoch 56/100\n",
            "17/17 [==============================] - 0s 7ms/step - loss: 0.4567 - accuracy: 0.8240 - val_loss: 0.5534 - val_accuracy: 0.7697\n",
            "Epoch 57/100\n",
            "17/17 [==============================] - 0s 7ms/step - loss: 0.4555 - accuracy: 0.8240 - val_loss: 0.5522 - val_accuracy: 0.7697\n",
            "Epoch 58/100\n",
            "17/17 [==============================] - 0s 7ms/step - loss: 0.4543 - accuracy: 0.8184 - val_loss: 0.5526 - val_accuracy: 0.7697\n",
            "Epoch 59/100\n",
            "17/17 [==============================] - 0s 6ms/step - loss: 0.4531 - accuracy: 0.8109 - val_loss: 0.5520 - val_accuracy: 0.7697\n",
            "Epoch 60/100\n",
            "17/17 [==============================] - 0s 7ms/step - loss: 0.4521 - accuracy: 0.8109 - val_loss: 0.5521 - val_accuracy: 0.7697\n",
            "Epoch 61/100\n",
            "17/17 [==============================] - 0s 6ms/step - loss: 0.4509 - accuracy: 0.8202 - val_loss: 0.5511 - val_accuracy: 0.7697\n",
            "Epoch 62/100\n",
            "17/17 [==============================] - 0s 6ms/step - loss: 0.4501 - accuracy: 0.8109 - val_loss: 0.5507 - val_accuracy: 0.7697\n",
            "Epoch 63/100\n",
            "17/17 [==============================] - 0s 6ms/step - loss: 0.4493 - accuracy: 0.8109 - val_loss: 0.5504 - val_accuracy: 0.7697\n",
            "Epoch 64/100\n",
            "17/17 [==============================] - 0s 5ms/step - loss: 0.4484 - accuracy: 0.8109 - val_loss: 0.5496 - val_accuracy: 0.7753\n",
            "Epoch 65/100\n",
            "17/17 [==============================] - 0s 7ms/step - loss: 0.4473 - accuracy: 0.8127 - val_loss: 0.5486 - val_accuracy: 0.7753\n",
            "Epoch 66/100\n",
            "17/17 [==============================] - 0s 8ms/step - loss: 0.4464 - accuracy: 0.8090 - val_loss: 0.5482 - val_accuracy: 0.7753\n",
            "Epoch 67/100\n",
            "17/17 [==============================] - 0s 6ms/step - loss: 0.4457 - accuracy: 0.8052 - val_loss: 0.5474 - val_accuracy: 0.7753\n",
            "Epoch 68/100\n",
            "17/17 [==============================] - 0s 6ms/step - loss: 0.4446 - accuracy: 0.8071 - val_loss: 0.5479 - val_accuracy: 0.7753\n",
            "Epoch 69/100\n",
            "17/17 [==============================] - 0s 7ms/step - loss: 0.4441 - accuracy: 0.8109 - val_loss: 0.5480 - val_accuracy: 0.7753\n",
            "Epoch 70/100\n",
            "17/17 [==============================] - 0s 6ms/step - loss: 0.4431 - accuracy: 0.8127 - val_loss: 0.5461 - val_accuracy: 0.7809\n",
            "Epoch 71/100\n",
            "17/17 [==============================] - 0s 5ms/step - loss: 0.4425 - accuracy: 0.8090 - val_loss: 0.5474 - val_accuracy: 0.7753\n",
            "Epoch 72/100\n",
            "17/17 [==============================] - 0s 5ms/step - loss: 0.4422 - accuracy: 0.8071 - val_loss: 0.5455 - val_accuracy: 0.7809\n",
            "Epoch 73/100\n",
            "17/17 [==============================] - 0s 5ms/step - loss: 0.4412 - accuracy: 0.8071 - val_loss: 0.5451 - val_accuracy: 0.7809\n",
            "Epoch 74/100\n",
            "17/17 [==============================] - 0s 5ms/step - loss: 0.4405 - accuracy: 0.8090 - val_loss: 0.5454 - val_accuracy: 0.7753\n",
            "Epoch 75/100\n",
            "17/17 [==============================] - 0s 4ms/step - loss: 0.4400 - accuracy: 0.8071 - val_loss: 0.5454 - val_accuracy: 0.7753\n",
            "Epoch 76/100\n",
            "17/17 [==============================] - 0s 4ms/step - loss: 0.4391 - accuracy: 0.8090 - val_loss: 0.5446 - val_accuracy: 0.7809\n",
            "Epoch 77/100\n",
            "17/17 [==============================] - 0s 6ms/step - loss: 0.4386 - accuracy: 0.8090 - val_loss: 0.5433 - val_accuracy: 0.7753\n",
            "Epoch 78/100\n",
            "17/17 [==============================] - 0s 5ms/step - loss: 0.4379 - accuracy: 0.8071 - val_loss: 0.5433 - val_accuracy: 0.7753\n",
            "Epoch 79/100\n",
            "17/17 [==============================] - 0s 4ms/step - loss: 0.4374 - accuracy: 0.8071 - val_loss: 0.5438 - val_accuracy: 0.7809\n",
            "Epoch 80/100\n",
            "17/17 [==============================] - 0s 4ms/step - loss: 0.4369 - accuracy: 0.8109 - val_loss: 0.5422 - val_accuracy: 0.7697\n",
            "Epoch 81/100\n",
            "17/17 [==============================] - 0s 4ms/step - loss: 0.4368 - accuracy: 0.8090 - val_loss: 0.5424 - val_accuracy: 0.7753\n",
            "Epoch 82/100\n",
            "17/17 [==============================] - 0s 4ms/step - loss: 0.4356 - accuracy: 0.8090 - val_loss: 0.5423 - val_accuracy: 0.7753\n",
            "Epoch 83/100\n",
            "17/17 [==============================] - 0s 5ms/step - loss: 0.4353 - accuracy: 0.8090 - val_loss: 0.5434 - val_accuracy: 0.7753\n",
            "Epoch 84/100\n",
            "17/17 [==============================] - 0s 4ms/step - loss: 0.4347 - accuracy: 0.8090 - val_loss: 0.5422 - val_accuracy: 0.7809\n",
            "Epoch 85/100\n",
            "17/17 [==============================] - 0s 5ms/step - loss: 0.4339 - accuracy: 0.8090 - val_loss: 0.5406 - val_accuracy: 0.7697\n",
            "Epoch 86/100\n",
            "17/17 [==============================] - 0s 5ms/step - loss: 0.4337 - accuracy: 0.8090 - val_loss: 0.5400 - val_accuracy: 0.7697\n",
            "Epoch 87/100\n",
            "17/17 [==============================] - 0s 4ms/step - loss: 0.4333 - accuracy: 0.8052 - val_loss: 0.5399 - val_accuracy: 0.7697\n",
            "Epoch 88/100\n",
            "17/17 [==============================] - 0s 5ms/step - loss: 0.4326 - accuracy: 0.8052 - val_loss: 0.5417 - val_accuracy: 0.7809\n",
            "Epoch 89/100\n",
            "17/17 [==============================] - 0s 6ms/step - loss: 0.4321 - accuracy: 0.8127 - val_loss: 0.5408 - val_accuracy: 0.7753\n",
            "Epoch 90/100\n",
            "17/17 [==============================] - 0s 5ms/step - loss: 0.4316 - accuracy: 0.8109 - val_loss: 0.5401 - val_accuracy: 0.7753\n",
            "Epoch 91/100\n",
            "17/17 [==============================] - 0s 4ms/step - loss: 0.4312 - accuracy: 0.8090 - val_loss: 0.5391 - val_accuracy: 0.7753\n",
            "Epoch 92/100\n",
            "17/17 [==============================] - 0s 4ms/step - loss: 0.4308 - accuracy: 0.8071 - val_loss: 0.5394 - val_accuracy: 0.7809\n",
            "Epoch 93/100\n",
            "17/17 [==============================] - 0s 4ms/step - loss: 0.4303 - accuracy: 0.8052 - val_loss: 0.5378 - val_accuracy: 0.7753\n",
            "Epoch 94/100\n",
            "17/17 [==============================] - 0s 5ms/step - loss: 0.4299 - accuracy: 0.8052 - val_loss: 0.5388 - val_accuracy: 0.7809\n",
            "Epoch 95/100\n",
            "17/17 [==============================] - 0s 4ms/step - loss: 0.4295 - accuracy: 0.8071 - val_loss: 0.5394 - val_accuracy: 0.7809\n",
            "Epoch 96/100\n",
            "17/17 [==============================] - 0s 4ms/step - loss: 0.4290 - accuracy: 0.8090 - val_loss: 0.5410 - val_accuracy: 0.7809\n",
            "Epoch 97/100\n",
            "17/17 [==============================] - 0s 4ms/step - loss: 0.4287 - accuracy: 0.8090 - val_loss: 0.5405 - val_accuracy: 0.7809\n",
            "Epoch 98/100\n",
            "17/17 [==============================] - 0s 5ms/step - loss: 0.4283 - accuracy: 0.8109 - val_loss: 0.5400 - val_accuracy: 0.7809\n",
            "Epoch 99/100\n",
            "17/17 [==============================] - 0s 4ms/step - loss: 0.4283 - accuracy: 0.8090 - val_loss: 0.5390 - val_accuracy: 0.7809\n",
            "Epoch 100/100\n",
            "17/17 [==============================] - 0s 5ms/step - loss: 0.4272 - accuracy: 0.8184 - val_loss: 0.5372 - val_accuracy: 0.7809\n"
          ]
        }
      ]
    },
    {
      "cell_type": "markdown",
      "source": [
        "#7. Grafico"
      ],
      "metadata": {
        "id": "yYBdRHppcCPk"
      }
    },
    {
      "cell_type": "code",
      "source": [
        "#Grafico de error\n",
        "plt.plot(proceso.history['loss'])\n",
        "plt.plot(proceso.history['val_loss'])\n",
        "plt.title('Error')\n",
        "plt.ylabel('Error')\n",
        "plt.xlabel('Epochs')\n",
        "plt.legend(['Entrenamiento','Validation'])\n",
        "plt.show()"
      ],
      "metadata": {
        "colab": {
          "base_uri": "https://localhost:8080/",
          "height": 472
        },
        "id": "wBrP7mcGcGwW",
        "outputId": "64c91ed6-ba52-4cc1-c009-9c6e5321719d"
      },
      "execution_count": 20,
      "outputs": [
        {
          "output_type": "display_data",
          "data": {
            "text/plain": [
              "<Figure size 640x480 with 1 Axes>"
            ],
            "image/png": "[encoded data removed]"
          },
          "metadata": {}
        }
      ]
    },
    {
      "cell_type": "code",
      "source": [
        "#Grafico de aprendizaje\n",
        "plt.plot(proceso.history['accuracy'])\n",
        "plt.plot(proceso.history['val_accuracy'])\n",
        "plt.title('Precisión del modelo')\n",
        "plt.ylabel('Precisión')\n",
        "plt.xlabel('Epochs')\n",
        "plt.legend(['Entrenamiento','Validation'])\n",
        "plt.show()"
      ],
      "metadata": {
        "colab": {
          "base_uri": "https://localhost:8080/",
          "height": 472
        },
        "id": "cEmXxL3ncJt1",
        "outputId": "98754ca9-ef48-4a14-d9f1-aa7bc5218f81"
      },
      "execution_count": 21,
      "outputs": [
        {
          "output_type": "display_data",
          "data": {
            "text/plain": [
              "<Figure size 640x480 with 1 Axes>"
            ],
            "image/png": "[encoded data removed]"
          },
          "metadata": {}
        }
      ]
    },
    {
      "cell_type": "markdown",
      "source": [
        "#8. Calificación del modelo"
      ],
      "metadata": {
        "id": "EcJzw2tZcRUy"
      }
    },
    {
      "cell_type": "code",
      "source": [
        "Y_pred=modelo.predict(X_test)\n",
        "rmse=np.sqrt(np.mean(Y_pred-Y_test)**2)\n",
        "calificacion=(1-rmse)*100\n",
        "calificacion"
      ],
      "metadata": {
        "colab": {
          "base_uri": "https://localhost:8080/"
        },
        "id": "BbKAETtkcU5A",
        "outputId": "80548e49-55ae-4614-9b43-ea78d25666e1"
      },
      "execution_count": 22,
      "outputs": [
        {
          "output_type": "stream",
          "name": "stdout",
          "text": [
            "6/6 [==============================] - 0s 2ms/step\n"
          ]
        },
        {
          "output_type": "execute_result",
          "data": {
            "text/plain": [
              "96.72714136749006"
            ]
          },
          "metadata": {},
          "execution_count": 22
        }
      ]
    },
    {
      "cell_type": "code",
      "source": [
        "Y_pred"
      ],
      "metadata": {
        "id": "3bc1KWXAcd-B"
      },
      "execution_count": null,
      "outputs": []
    },
    {
      "cell_type": "markdown",
      "source": [
        "#9.1 Nueva observación"
      ],
      "metadata": {
        "id": "pViG0oEJciko"
      }
    },
    {
      "cell_type": "code",
      "source": [
        "fila_adicional=np.array([3,0,21,1,0,55,1,0,0])"
      ],
      "metadata": {
        "id": "EBgFQJZGcrqT"
      },
      "execution_count": 24,
      "outputs": []
    },
    {
      "cell_type": "markdown",
      "source": [
        "#9.2 Redimensionamiento"
      ],
      "metadata": {
        "id": "Oyz1xnK8dI_P"
      }
    },
    {
      "cell_type": "code",
      "source": [
        "fila_adicional_redimensionado=preprocessing.MinMaxScaler().fit_transform(fila_adicional.reshape(-1,1))"
      ],
      "metadata": {
        "id": "YBBKFeWRdL6j"
      },
      "execution_count": 25,
      "outputs": []
    },
    {
      "cell_type": "markdown",
      "source": [
        "#9.3 Nueva Matriz x"
      ],
      "metadata": {
        "id": "fGBDNNQtdNZn"
      }
    },
    {
      "cell_type": "code",
      "source": [
        "X_test_nuevo=np.vstack([X_test,np.transpose(fila_adicional_redimensionado)])"
      ],
      "metadata": {
        "id": "vpEZbyMIdRHs"
      },
      "execution_count": 26,
      "outputs": []
    },
    {
      "cell_type": "markdown",
      "source": [
        "#9.4 Predicción"
      ],
      "metadata": {
        "id": "B8xOQLP8dT_Q"
      }
    },
    {
      "cell_type": "code",
      "source": [
        "Y_pred_nuevo=modelo.predict(X_test_nuevo)\n",
        "Y_pred_nuevo"
      ],
      "metadata": {
        "colab": {
          "base_uri": "https://localhost:8080/"
        },
        "id": "XO4IFKx_dYIn",
        "outputId": "ac8fae32-39be-4b67-b0d6-2c85b4aabdcb"
      },
      "execution_count": 27,
      "outputs": [
        {
          "output_type": "stream",
          "name": "stdout",
          "text": [
            "6/6 [==============================] - 0s 4ms/step\n"
          ]
        },
        {
          "output_type": "execute_result",
          "data": {
            "text/plain": [
              "array([[0.17320067],\n",
              "       [0.07606848],\n",
              "       [0.07746564],\n",
              "       [0.16157064],\n",
              "       [0.09373818],\n",
              "       [0.7635603 ],\n",
              "       [0.8732745 ],\n",
              "       [0.7796587 ],\n",
              "       [0.16341937],\n",
              "       [0.44232702],\n",
              "       [0.07167701],\n",
              "       [0.86866254],\n",
              "       [0.8695558 ],\n",
              "       [0.62674916],\n",
              "       [0.16196412],\n",
              "       [0.37233958],\n",
              "       [0.06862476],\n",
              "       [0.16768888],\n",
              "       [0.8734634 ],\n",
              "       [0.594831  ],\n",
              "       [0.07174063],\n",
              "       [0.16301146],\n",
              "       [0.66746056],\n",
              "       [0.16647346],\n",
              "       [0.8720948 ],\n",
              "       [0.11169777],\n",
              "       [0.29369903],\n",
              "       [0.5197046 ],\n",
              "       [0.17179735],\n",
              "       [0.17122045],\n",
              "       [0.16706058],\n",
              "       [0.15791751],\n",
              "       [0.17429392],\n",
              "       [0.76061445],\n",
              "       [0.0795159 ],\n",
              "       [0.07805658],\n",
              "       [0.07661442],\n",
              "       [0.60409445],\n",
              "       [0.07718942],\n",
              "       [0.07222831],\n",
              "       [0.08890072],\n",
              "       [0.17077005],\n",
              "       [0.17064   ],\n",
              "       [0.07932862],\n",
              "       [0.44507343],\n",
              "       [0.07260437],\n",
              "       [0.16792539],\n",
              "       [0.61396706],\n",
              "       [0.7604496 ],\n",
              "       [0.8732909 ],\n",
              "       [0.8701265 ],\n",
              "       [0.51938754],\n",
              "       [0.42441   ],\n",
              "       [0.6271684 ],\n",
              "       [0.07688543],\n",
              "       [0.16792539],\n",
              "       [0.0797354 ],\n",
              "       [0.16539015],\n",
              "       [0.44882813],\n",
              "       [0.37646648],\n",
              "       [0.17592698],\n",
              "       [0.07932685],\n",
              "       [0.08419909],\n",
              "       [0.16723813],\n",
              "       [0.3769022 ],\n",
              "       [0.7643298 ],\n",
              "       [0.61876076],\n",
              "       [0.16924722],\n",
              "       [0.38105664],\n",
              "       [0.86996305],\n",
              "       [0.42565766],\n",
              "       [0.10722932],\n",
              "       [0.07863136],\n",
              "       [0.7646825 ],\n",
              "       [0.1582322 ],\n",
              "       [0.6312442 ],\n",
              "       [0.5956677 ],\n",
              "       [0.35793898],\n",
              "       [0.59499687],\n",
              "       [0.86637557],\n",
              "       [0.07834838],\n",
              "       [0.07207017],\n",
              "       [0.1724342 ],\n",
              "       [0.0757632 ],\n",
              "       [0.07746849],\n",
              "       [0.858905  ],\n",
              "       [0.44162232],\n",
              "       [0.5947732 ],\n",
              "       [0.16730578],\n",
              "       [0.7647189 ],\n",
              "       [0.4279455 ],\n",
              "       [0.09757158],\n",
              "       [0.87745273],\n",
              "       [0.7774745 ],\n",
              "       [0.7392238 ],\n",
              "       [0.39486337],\n",
              "       [0.79451925],\n",
              "       [0.59665316],\n",
              "       [0.15040141],\n",
              "       [0.57510024],\n",
              "       [0.07764709],\n",
              "       [0.15913382],\n",
              "       [0.10017961],\n",
              "       [0.07333712],\n",
              "       [0.08112308],\n",
              "       [0.16750035],\n",
              "       [0.0777655 ],\n",
              "       [0.7634801 ],\n",
              "       [0.0743878 ],\n",
              "       [0.1697361 ],\n",
              "       [0.8578681 ],\n",
              "       [0.0737833 ],\n",
              "       [0.07705092],\n",
              "       [0.7585404 ],\n",
              "       [0.37808672],\n",
              "       [0.16732354],\n",
              "       [0.07690213],\n",
              "       [0.16912389],\n",
              "       [0.37833545],\n",
              "       [0.87684995],\n",
              "       [0.36185256],\n",
              "       [0.51997745],\n",
              "       [0.5192941 ],\n",
              "       [0.10361891],\n",
              "       [0.44951087],\n",
              "       [0.10537387],\n",
              "       [0.56801945],\n",
              "       [0.7647446 ],\n",
              "       [0.15701883],\n",
              "       [0.56435573],\n",
              "       [0.35747007],\n",
              "       [0.37788188],\n",
              "       [0.7731317 ],\n",
              "       [0.78908867],\n",
              "       [0.5200061 ],\n",
              "       [0.7390889 ],\n",
              "       [0.10736389],\n",
              "       [0.08850835],\n",
              "       [0.07576109],\n",
              "       [0.65289694],\n",
              "       [0.07770913],\n",
              "       [0.43609938],\n",
              "       [0.377361  ],\n",
              "       [0.10581548],\n",
              "       [0.52119863],\n",
              "       [0.0766383 ],\n",
              "       [0.08062406],\n",
              "       [0.41682702],\n",
              "       [0.07973508],\n",
              "       [0.38127244],\n",
              "       [0.07548247],\n",
              "       [0.11063859],\n",
              "       [0.87105674],\n",
              "       [0.11402524],\n",
              "       [0.07548034],\n",
              "       [0.7635494 ],\n",
              "       [0.15355279],\n",
              "       [0.47615257],\n",
              "       [0.4501258 ],\n",
              "       [0.07863917],\n",
              "       [0.07299892],\n",
              "       [0.7644688 ],\n",
              "       [0.38128752],\n",
              "       [0.1582322 ],\n",
              "       [0.42126063],\n",
              "       [0.07932583],\n",
              "       [0.86703074],\n",
              "       [0.8704073 ],\n",
              "       [0.38051546],\n",
              "       [0.17090298],\n",
              "       [0.37702706],\n",
              "       [0.16639659],\n",
              "       [0.27794358],\n",
              "       [0.5492909 ],\n",
              "       [0.17004125],\n",
              "       [0.07805713],\n",
              "       [0.1663102 ],\n",
              "       [0.7801907 ],\n",
              "       [0.5969717 ],\n",
              "       [0.8067597 ]], dtype=float32)"
            ]
          },
          "metadata": {},
          "execution_count": 27
        }
      ]
    }
  ]
}