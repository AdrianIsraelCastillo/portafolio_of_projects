{
  "cells": [
    {
      "cell_type": "markdown",
      "metadata": {
        "id": "3E-DhaVYzi4H"
      },
      "source": [
        "# 1. Descargar las librerias"
      ]
    },
    {
      "cell_type": "code",
      "execution_count": 7,
      "metadata": {
        "id": "P9JOW0bEulJ6"
      },
      "outputs": [],
      "source": [
        "import pandas as pd\n",
        "import numpy as np\n",
        "import matplotlib.pyplot as plt\n",
        "\n",
        "from statsmodels.formula.api import ols\n",
        "import statsmodels.stats.api as sms\n",
        "\n",
        "from statsmodels.stats.outliers_influence import variance_inflation_factor #Multicolinealidad\n",
        "from statsmodels.stats.stattools import durbin_watson #Autocorrelación"
      ]
    },
    {
      "cell_type": "markdown",
      "metadata": {
        "id": "pyu9NcWq0xg2"
      },
      "source": [
        "#2. Base de datos"
      ]
    },
    {
      "cell_type": "code",
      "execution_count": 8,
      "metadata": {
        "colab": {
          "base_uri": "https://localhost:8080/",
          "height": 423
        },
        "id": "kb_iTVUK00GG",
        "outputId": "97a43d5d-c5d5-42cf-834f-c69bd5ccaf13"
      },
      "outputs": [
        {
          "data": {
            "text/html": [
              "<div>\n",
              "<style scoped>\n",
              "    .dataframe tbody tr th:only-of-type {\n",
              "        vertical-align: middle;\n",
              "    }\n",
              "\n",
              "    .dataframe tbody tr th {\n",
              "        vertical-align: top;\n",
              "    }\n",
              "\n",
              "    .dataframe thead th {\n",
              "        text-align: right;\n",
              "    }\n",
              "</style>\n",
              "<table border=\"1\" class=\"dataframe\">\n",
              "  <thead>\n",
              "    <tr style=\"text-align: right;\">\n",
              "      <th></th>\n",
              "      <th>number_courses</th>\n",
              "      <th>time_study</th>\n",
              "      <th>Marks</th>\n",
              "    </tr>\n",
              "  </thead>\n",
              "  <tbody>\n",
              "    <tr>\n",
              "      <th>0</th>\n",
              "      <td>3</td>\n",
              "      <td>4.508</td>\n",
              "      <td>19.202</td>\n",
              "    </tr>\n",
              "    <tr>\n",
              "      <th>1</th>\n",
              "      <td>4</td>\n",
              "      <td>0.096</td>\n",
              "      <td>7.734</td>\n",
              "    </tr>\n",
              "    <tr>\n",
              "      <th>2</th>\n",
              "      <td>4</td>\n",
              "      <td>3.133</td>\n",
              "      <td>13.811</td>\n",
              "    </tr>\n",
              "    <tr>\n",
              "      <th>3</th>\n",
              "      <td>6</td>\n",
              "      <td>7.909</td>\n",
              "      <td>53.018</td>\n",
              "    </tr>\n",
              "    <tr>\n",
              "      <th>4</th>\n",
              "      <td>8</td>\n",
              "      <td>7.811</td>\n",
              "      <td>55.299</td>\n",
              "    </tr>\n",
              "    <tr>\n",
              "      <th>...</th>\n",
              "      <td>...</td>\n",
              "      <td>...</td>\n",
              "      <td>...</td>\n",
              "    </tr>\n",
              "    <tr>\n",
              "      <th>95</th>\n",
              "      <td>6</td>\n",
              "      <td>3.561</td>\n",
              "      <td>19.128</td>\n",
              "    </tr>\n",
              "    <tr>\n",
              "      <th>96</th>\n",
              "      <td>3</td>\n",
              "      <td>0.301</td>\n",
              "      <td>5.609</td>\n",
              "    </tr>\n",
              "    <tr>\n",
              "      <th>97</th>\n",
              "      <td>4</td>\n",
              "      <td>7.163</td>\n",
              "      <td>41.444</td>\n",
              "    </tr>\n",
              "    <tr>\n",
              "      <th>98</th>\n",
              "      <td>7</td>\n",
              "      <td>0.309</td>\n",
              "      <td>12.027</td>\n",
              "    </tr>\n",
              "    <tr>\n",
              "      <th>99</th>\n",
              "      <td>3</td>\n",
              "      <td>6.335</td>\n",
              "      <td>32.357</td>\n",
              "    </tr>\n",
              "  </tbody>\n",
              "</table>\n",
              "<p>100 rows × 3 columns</p>\n",
              "</div>"
            ],
            "text/plain": [
              "    number_courses  time_study   Marks\n",
              "0                3       4.508  19.202\n",
              "1                4       0.096   7.734\n",
              "2                4       3.133  13.811\n",
              "3                6       7.909  53.018\n",
              "4                8       7.811  55.299\n",
              "..             ...         ...     ...\n",
              "95               6       3.561  19.128\n",
              "96               3       0.301   5.609\n",
              "97               4       7.163  41.444\n",
              "98               7       0.309  12.027\n",
              "99               3       6.335  32.357\n",
              "\n",
              "[100 rows x 3 columns]"
            ]
          },
          "execution_count": 8,
          "metadata": {},
          "output_type": "execute_result"
        }
      ],
      "source": [
        "db = pd.read_csv ('Student_Marks.csv')\n",
        "db"
      ]
    },
    {
      "cell_type": "markdown",
      "metadata": {
        "id": "BOh9AcRz4D0W"
      },
      "source": [
        "#3. Graficos"
      ]
    },
    {
      "cell_type": "code",
      "execution_count": 9,
      "metadata": {
        "colab": {
          "base_uri": "https://localhost:8080/",
          "height": 472
        },
        "id": "CGqFm4Ec4HuF",
        "outputId": "42391898-c219-4d0e-e01f-0d1d1164d420"
      },
      "outputs": [
        {
          "data": {
            "image/png": "[encoded data removed]",
            "text/plain": [
              "<Figure size 640x480 with 1 Axes>"
            ]
          },
          "metadata": {},
          "output_type": "display_data"
        }
      ],
      "source": [
        "plt.scatter(db.number_courses,db.Marks)\n",
        "plt.title('Numero de cursos vs Calificaciones')\n",
        "plt.xlabel('Numero de cursos')\n",
        "plt.ylabel('Calificaciones')\n",
        "plt.show()"
      ]
    },
    {
      "cell_type": "code",
      "execution_count": 10,
      "metadata": {
        "colab": {
          "base_uri": "https://localhost:8080/",
          "height": 472
        },
        "id": "qPJCwSbW46P3",
        "outputId": "817a33d0-8998-4641-80fe-18971e8395c7"
      },
      "outputs": [
        {
          "data": {
            "image/png": "[encoded data removed]",
            "text/plain": [
              "<Figure size 640x480 with 1 Axes>"
            ]
          },
          "metadata": {},
          "output_type": "display_data"
        }
      ],
      "source": [
        "plt.scatter(db.time_study,db.Marks)\n",
        "plt.title('Tiempo de estudio vs Calificaciones')\n",
        "plt.xlabel('Tiempo de estudio')\n",
        "plt.ylabel('Calificaciones')\n",
        "plt.show()"
      ]
    },
    {
      "cell_type": "markdown",
      "metadata": {
        "id": "nVOrcUA__cvZ"
      },
      "source": [
        "#4. Regresión lineal"
      ]
    },
    {
      "cell_type": "code",
      "execution_count": 11,
      "metadata": {
        "colab": {
          "base_uri": "https://localhost:8080/"
        },
        "id": "KECcvtMB_hoB",
        "outputId": "cb049a5f-add4-4ed8-b5f1-1824a0333b4b"
      },
      "outputs": [
        {
          "name": "stdout",
          "output_type": "stream",
          "text": [
            "                            OLS Regression Results                            \n",
            "==============================================================================\n",
            "Dep. Variable:                  Marks   R-squared:                       0.940\n",
            "Model:                            OLS   Adj. R-squared:                  0.939\n",
            "Method:                 Least Squares   F-statistic:                     764.8\n",
            "Date:                Tue, 12 Aug 2025   Prob (F-statistic):           4.09e-60\n",
            "Time:                        16:43:02   Log-Likelihood:                -266.62\n",
            "No. Observations:                 100   AIC:                             539.2\n",
            "Df Residuals:                      97   BIC:                             547.1\n",
            "Df Model:                           2                                         \n",
            "Covariance Type:            nonrobust                                         \n",
            "==================================================================================\n",
            "                     coef    std err          t      P>|t|      [0.025      0.975]\n",
            "----------------------------------------------------------------------------------\n",
            "Intercept         -7.4563      1.174     -6.349      0.000      -9.787      -5.125\n",
            "number_courses     1.8641      0.202      9.243      0.000       1.464       2.264\n",
            "time_study         5.3992      0.153     35.303      0.000       5.096       5.703\n",
            "==============================================================================\n",
            "Omnibus:                       29.529   Durbin-Watson:                   1.978\n",
            "Prob(Omnibus):                  0.000   Jarque-Bera (JB):                9.956\n",
            "Skew:                           0.526   Prob(JB):                      0.00689\n",
            "Kurtosis:                       1.867   Cond. No.                         23.9\n",
            "==============================================================================\n",
            "\n",
            "Notes:\n",
            "[1] Standard Errors assume that the covariance matrix of the errors is correctly specified.\n"
          ]
        }
      ],
      "source": [
        "#Creación de regresión lineal\n",
        "reg1=ols('Marks~number_courses + time_study', data=db).fit()\n",
        "print(reg1.summary())\n"
      ]
    },
    {
      "cell_type": "markdown",
      "metadata": {
        "id": "OHcFyNAaIOq6"
      },
      "source": [
        "Cuando el numero de cursos aumenta 1 unidad la nota aumenta 1.86 unidades.\n",
        "Cuando el numero de horas aumenta 1 unidad la nota aumenta 5.39 unidades."
      ]
    },
    {
      "cell_type": "code",
      "execution_count": 12,
      "metadata": {
        "colab": {
          "base_uri": "https://localhost:8080/"
        },
        "id": "mCM63FEgCG9y",
        "outputId": "70da4597-e975-4032-c820-eeba3d9f28bc"
      },
      "outputs": [
        {
          "name": "stdout",
          "output_type": "stream",
          "text": [
            "                            OLS Regression Results                            \n",
            "==============================================================================\n",
            "Dep. Variable:          np.log(Marks)   R-squared:                       0.767\n",
            "Model:                            OLS   Adj. R-squared:                  0.763\n",
            "Method:                 Least Squares   F-statistic:                     159.9\n",
            "Date:                Tue, 12 Aug 2025   Prob (F-statistic):           1.94e-31\n",
            "Time:                        16:43:05   Log-Likelihood:                -22.612\n",
            "No. Observations:                 100   AIC:                             51.22\n",
            "Df Residuals:                      97   BIC:                             59.04\n",
            "Df Model:                           2                                         \n",
            "Covariance Type:            nonrobust                                         \n",
            "==========================================================================================\n",
            "                             coef    std err          t      P>|t|      [0.025      0.975]\n",
            "------------------------------------------------------------------------------------------\n",
            "Intercept                  1.5343      0.144     10.685      0.000       1.249       1.819\n",
            "np.log(number_courses)     0.6000      0.088      6.835      0.000       0.426       0.774\n",
            "np.log(time_study)         0.4740      0.031     15.431      0.000       0.413       0.535\n",
            "==============================================================================\n",
            "Omnibus:                        6.289   Durbin-Watson:                   2.056\n",
            "Prob(Omnibus):                  0.043   Jarque-Bera (JB):                5.872\n",
            "Skew:                           0.528   Prob(JB):                       0.0531\n",
            "Kurtosis:                       2.459   Cond. No.                         12.3\n",
            "==============================================================================\n",
            "\n",
            "Notes:\n",
            "[1] Standard Errors assume that the covariance matrix of the errors is correctly specified.\n"
          ]
        }
      ],
      "source": [
        "#Utilizamos logaritmo para sacar los porcentajes. Los coef ahora son porcentajes.\n",
        "reg2=ols('np.log(Marks)~np.log(number_courses) + np.log(time_study)', data=db).fit()\n",
        "print(reg2.summary())\n"
      ]
    },
    {
      "cell_type": "markdown",
      "metadata": {
        "id": "Uu-pUHIAIgiJ"
      },
      "source": [
        "Cuando el numero de cursos aumenta 1% la nota aumenta 60%.\n",
        "Cuando el numero de horas aumenta 1% la nota aumenta 47%."
      ]
    },
    {
      "cell_type": "code",
      "execution_count": 13,
      "metadata": {
        "colab": {
          "base_uri": "https://localhost:8080/"
        },
        "id": "dSB11CgjEg7E",
        "outputId": "474f0e32-c93c-4d41-e269-bc9775c16402"
      },
      "outputs": [
        {
          "name": "stdout",
          "output_type": "stream",
          "text": [
            "                            OLS Regression Results                            \n",
            "==============================================================================\n",
            "Dep. Variable:                  Marks   R-squared:                       0.631\n",
            "Model:                            OLS   Adj. R-squared:                  0.623\n",
            "Method:                 Least Squares   F-statistic:                     82.86\n",
            "Date:                Tue, 12 Aug 2025   Prob (F-statistic):           1.03e-21\n",
            "Time:                        16:43:10   Log-Likelihood:                -357.78\n",
            "No. Observations:                 100   AIC:                             721.6\n",
            "Df Residuals:                      97   BIC:                             729.4\n",
            "Df Model:                           2                                         \n",
            "Covariance Type:            nonrobust                                         \n",
            "==========================================================================================\n",
            "                             coef    std err          t      P>|t|      [0.025      0.975]\n",
            "------------------------------------------------------------------------------------------\n",
            "Intercept                 -6.1216      4.100     -1.493      0.139     -14.259       2.015\n",
            "np.log(number_courses)    12.4682      2.506      4.975      0.000       7.494      17.443\n",
            "np.log(time_study)         9.7143      0.877     11.076      0.000       7.974      11.455\n",
            "==============================================================================\n",
            "Omnibus:                       17.370   Durbin-Watson:                   2.009\n",
            "Prob(Omnibus):                  0.000   Jarque-Bera (JB):                9.808\n",
            "Skew:                           0.602   Prob(JB):                      0.00742\n",
            "Kurtosis:                       2.048   Cond. No.                         12.3\n",
            "==============================================================================\n",
            "\n",
            "Notes:\n",
            "[1] Standard Errors assume that the covariance matrix of the errors is correctly specified.\n"
          ]
        }
      ],
      "source": [
        "#Solo las x tienen logaritmo\n",
        "reg3=ols('Marks~np.log(number_courses) + np.log(time_study)', data=db).fit()\n",
        "print(reg3.summary())"
      ]
    },
    {
      "cell_type": "markdown",
      "metadata": {
        "id": "dqLYVIl6FnU7"
      },
      "source": [
        "Cuando el numero de cursos sube 1% la nota sube 0.12 unidades.\n",
        "Cuando el numero de horas de estudio sube 1% la nota sube 0.09 unidades."
      ]
    },
    {
      "cell_type": "code",
      "execution_count": 14,
      "metadata": {
        "colab": {
          "base_uri": "https://localhost:8080/"
        },
        "id": "2eOKifpwGLHw",
        "outputId": "a3a6ce8d-348e-4c2c-c6ac-25b073894dea"
      },
      "outputs": [
        {
          "name": "stdout",
          "output_type": "stream",
          "text": [
            "                            OLS Regression Results                            \n",
            "==============================================================================\n",
            "Dep. Variable:          np.log(Marks)   R-squared:                       0.972\n",
            "Model:                            OLS   Adj. R-squared:                  0.971\n",
            "Method:                 Least Squares   F-statistic:                     1659.\n",
            "Date:                Tue, 12 Aug 2025   Prob (F-statistic):           9.69e-76\n",
            "Time:                        16:43:14   Log-Likelihood:                 82.552\n",
            "No. Observations:                 100   AIC:                            -159.1\n",
            "Df Residuals:                      97   BIC:                            -151.3\n",
            "Df Model:                           2                                         \n",
            "Covariance Type:            nonrobust                                         \n",
            "==================================================================================\n",
            "                     coef    std err          t      P>|t|      [0.025      0.975]\n",
            "----------------------------------------------------------------------------------\n",
            "Intercept          1.5443      0.036     43.186      0.000       1.473       1.615\n",
            "number_courses     0.0932      0.006     15.179      0.000       0.081       0.105\n",
            "time_study         0.2388      0.005     51.282      0.000       0.230       0.248\n",
            "==============================================================================\n",
            "Omnibus:                        1.539   Durbin-Watson:                   2.148\n",
            "Prob(Omnibus):                  0.463   Jarque-Bera (JB):                1.039\n",
            "Skew:                          -0.018   Prob(JB):                        0.595\n",
            "Kurtosis:                       3.498   Cond. No.                         23.9\n",
            "==============================================================================\n",
            "\n",
            "Notes:\n",
            "[1] Standard Errors assume that the covariance matrix of the errors is correctly specified.\n"
          ]
        }
      ],
      "source": [
        "# Solo la variable Y tiene logaritmo\n",
        "reg4=ols('np.log(Marks)~number_courses + time_study', data=db).fit()\n",
        "print(reg4.summary())"
      ]
    },
    {
      "cell_type": "code",
      "execution_count": 15,
      "metadata": {
        "colab": {
          "base_uri": "https://localhost:8080/"
        },
        "id": "XXbUFBLgHQ1X",
        "outputId": "50e50586-538e-46e7-ced7-3d0a6b56618b"
      },
      "outputs": [
        {
          "data": {
            "text/plain": [
              "9.768124956583367"
            ]
          },
          "execution_count": 15,
          "metadata": {},
          "output_type": "execute_result"
        }
      ],
      "source": [
        "(np.exp(0.0932)-1)*100"
      ]
    },
    {
      "cell_type": "code",
      "execution_count": 16,
      "metadata": {
        "colab": {
          "base_uri": "https://localhost:8080/"
        },
        "id": "V1N_mAnrHaNp",
        "outputId": "1f788547-cf07-424e-dfcd-e504bcc20df5"
      },
      "outputs": [
        {
          "data": {
            "text/plain": [
              "26.972456627439723"
            ]
          },
          "execution_count": 16,
          "metadata": {},
          "output_type": "execute_result"
        }
      ],
      "source": [
        "(np.exp(0.2388)-1)*100"
      ]
    },
    {
      "cell_type": "markdown",
      "metadata": {
        "id": "Bmw6aj1mH4aw"
      },
      "source": [
        "Cuando el numero de cursos aumenta 1 unidad la nota aumenta 9.76%.\n",
        "Cuando el numero de horas aumenta 1 unidad la nota aumenta 26.97%"
      ]
    },
    {
      "cell_type": "markdown",
      "metadata": {
        "id": "Nm8H_f_UVKUo"
      },
      "source": [
        "#5. Patologias"
      ]
    },
    {
      "cell_type": "markdown",
      "metadata": {
        "id": "AAPgFi4aZSOz"
      },
      "source": [
        "##5.1 Heteroscedasticidad"
      ]
    },
    {
      "cell_type": "code",
      "execution_count": 17,
      "metadata": {
        "colab": {
          "base_uri": "https://localhost:8080/"
        },
        "id": "jbbkkadCVWqD",
        "outputId": "a25ff7b1-b51c-47ab-d99b-07603ec7f828"
      },
      "outputs": [
        {
          "data": {
            "text/plain": [
              "(14.206851156987854,\n",
              " 0.0008222832971955411,\n",
              " 8.031320570535659,\n",
              " 0.0005921769294897787)"
            ]
          },
          "execution_count": 17,
          "metadata": {},
          "output_type": "execute_result"
        }
      ],
      "source": [
        "#Hipotesis nula: Hay homoscedasticidad\n",
        "#Hipotesis alterna: Hay heteroscedasticidad\n",
        "\n",
        "#Si p-value<0.05 rechazo la hipotesis nula\n",
        "\n",
        "test=sms.het_breuschpagan(reg4.resid,reg4.model.exog)\n",
        "test"
      ]
    },
    {
      "cell_type": "markdown",
      "metadata": {
        "id": "-lusJEdWbZ_3"
      },
      "source": [
        "El segundo indicador (0.0008) es el p-value. Si p-value es mayor que 0.05 entonces es homoscedastico pero si p-value es menor que 0.05 es heteroscedastico. "
      ]
    },
    {
      "cell_type": "markdown",
      "metadata": {
        "id": "vonHUjRZb_B2"
      },
      "source": [
        "##5.2 Autocorrelacion"
      ]
    },
    {
      "cell_type": "code",
      "execution_count": 19,
      "metadata": {
        "colab": {
          "base_uri": "https://localhost:8080/"
        },
        "id": "aZTb0T6OcDSd",
        "outputId": "83896845-459f-47d6-eed4-e9d0e78d3a81"
      },
      "outputs": [
        {
          "data": {
            "text/plain": [
              "2.147771857028824"
            ]
          },
          "execution_count": 19,
          "metadata": {},
          "output_type": "execute_result"
        }
      ],
      "source": [
        "durbin_watson(reg4.resid)"
      ]
    },
    {
      "cell_type": "markdown",
      "metadata": {
        "id": "3V0_26O1c34C"
      },
      "source": [
        "1. 0.0 < DW < 1.5 Autocorrelacion positiva\n",
        "2. 1.5 < DW < 2.5 No hay correlacion\n",
        "3. 2.5 < DW < 4 Autocorrelacion negativa"
      ]
    },
    {
      "cell_type": "markdown",
      "metadata": {
        "id": "FNAyn7GJA5Cg"
      },
      "source": [
        "## 5.3 Multicolinealidad"
      ]
    },
    {
      "cell_type": "code",
      "execution_count": null,
      "metadata": {
        "colab": {
          "base_uri": "https://localhost:8080/"
        },
        "id": "BtvJaDWNA9fq",
        "outputId": "f3910413-07f1-486e-ea64-d4e21b3a0717"
      },
      "outputs": [
        {
          "name": "stdout",
          "output_type": "stream",
          "text": [
            "          feature       VIF\n",
            "0  number_courses  3.662129\n",
            "1      time_study  3.662129\n"
          ]
        }
      ],
      "source": [
        "# VIF (Variance inflation factor)\n",
        "# Si VIF es <1 no hay multicolinealidad (Las X son independientes)\n",
        "# 1< VIF < 5 Multicolinealidad moderada\n",
        "# VIF > 5 problemas porque hay multicolinealidad\n",
        "\n",
        "X=db[['number_courses', 'time_study']]\n",
        "\n",
        "vif_data=pd.DataFrame()\n",
        "vif_data['feature']=X.columns\n",
        "vif_data['VIF']=[variance_inflation_factor(X.values,i) for i in range(len(X.columns))]\n",
        "print(vif_data)"
      ]
    }
  ],
  "metadata": {
    "colab": {
      "provenance": []
    },
    "kernelspec": {
      "display_name": "Python 3",
      "name": "python3"
    },
    "language_info": {
      "codemirror_mode": {
        "name": "ipython",
        "version": 3
      },
      "file_extension": ".py",
      "mimetype": "text/x-python",
      "name": "python",
      "nbconvert_exporter": "python",
      "pygments_lexer": "ipython3",
      "version": "3.12.2"
    }
  },
  "nbformat": 4,
  "nbformat_minor": 0
}
